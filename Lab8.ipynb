{
  "nbformat": 4,
  "nbformat_minor": 0,
  "metadata": {
    "colab": {
      "provenance": [],
      "gpuType": "T4"
    },
    "kernelspec": {
      "name": "python3",
      "display_name": "Python 3"
    },
    "language_info": {
      "name": "python"
    },
    "accelerator": "GPU"
  },
  "cells": [
    {
      "cell_type": "markdown",
      "source": [
        "# Лабораторная работа №8 (Проведение исследований моделями обнаружения и распознавания объектов)"
      ],
      "metadata": {
        "id": "71-hUGfL3-5-"
      }
    },
    {
      "cell_type": "markdown",
      "source": [
        "## 1.\tВыбор начальных условий"
      ],
      "metadata": {
        "id": "-UwU8tFh4Dx9"
      }
    },
    {
      "cell_type": "code",
      "source": [
        "!pip install ultralytics matplotlib seaborn --quiet"
      ],
      "metadata": {
        "colab": {
          "base_uri": "https://localhost:8080/"
        },
        "id": "tqTZUmbl4pwS",
        "outputId": "444c7338-343e-4046-e65c-13015fa0688c"
      },
      "execution_count": 5,
      "outputs": [
        {
          "output_type": "stream",
          "name": "stdout",
          "text": [
            "\u001b[2K   \u001b[90m━━━━━━━━━━━━━━━━━━━━━━━━━━━━━━━━━━━━━━━━\u001b[0m \u001b[32m664.8/664.8 MB\u001b[0m \u001b[31m2.1 MB/s\u001b[0m eta \u001b[36m0:00:00\u001b[0m\n",
            "\u001b[2K   \u001b[90m━━━━━━━━━━━━━━━━━━━━━━━━━━━━━━━━━━━━━━━━\u001b[0m \u001b[32m211.5/211.5 MB\u001b[0m \u001b[31m5.4 MB/s\u001b[0m eta \u001b[36m0:00:00\u001b[0m\n",
            "\u001b[2K   \u001b[90m━━━━━━━━━━━━━━━━━━━━━━━━━━━━━━━━━━━━━━━━\u001b[0m \u001b[32m56.3/56.3 MB\u001b[0m \u001b[31m13.3 MB/s\u001b[0m eta \u001b[36m0:00:00\u001b[0m\n",
            "\u001b[2K   \u001b[90m━━━━━━━━━━━━━━━━━━━━━━━━━━━━━━━━━━━━━━━━\u001b[0m \u001b[32m127.9/127.9 MB\u001b[0m \u001b[31m7.5 MB/s\u001b[0m eta \u001b[36m0:00:00\u001b[0m\n",
            "\u001b[2K   \u001b[90m━━━━━━━━━━━━━━━━━━━━━━━━━━━━━━━━━━━━━━━━\u001b[0m \u001b[32m207.5/207.5 MB\u001b[0m \u001b[31m5.5 MB/s\u001b[0m eta \u001b[36m0:00:00\u001b[0m\n",
            "\u001b[2K   \u001b[90m━━━━━━━━━━━━━━━━━━━━━━━━━━━━━━━━━━━━━━━━\u001b[0m \u001b[32m21.1/21.1 MB\u001b[0m \u001b[31m108.8 MB/s\u001b[0m eta \u001b[36m0:00:00\u001b[0m\n",
            "\u001b[?25h"
          ]
        }
      ]
    },
    {
      "cell_type": "code",
      "execution_count": 6,
      "metadata": {
        "colab": {
          "base_uri": "https://localhost:8080/"
        },
        "id": "6uEue2A12Vgk",
        "outputId": "e5f58470-01db-49a3-c635-858abc701b7b"
      },
      "outputs": [
        {
          "output_type": "stream",
          "name": "stdout",
          "text": [
            "Creating new Ultralytics Settings v0.0.6 file ✅ \n",
            "View Ultralytics Settings with 'yolo settings' or at '/root/.config/Ultralytics/settings.json'\n",
            "Update Settings with 'yolo settings key=value', i.e. 'yolo settings runs_dir=path/to/dir'. For help see https://docs.ultralytics.com/quickstart/#ultralytics-settings.\n"
          ]
        }
      ],
      "source": [
        "import ultralytics\n",
        "from ultralytics import YOLO\n",
        "import matplotlib.pyplot as plt\n",
        "import seaborn as sns\n",
        "import os\n",
        "import numpy as np\n",
        "from IPython.display import Image"
      ]
    },
    {
      "cell_type": "markdown",
      "source": [
        "В качестве датасета возьмём COCO128. Это сокращенная версия датасета COCO (Common Objects in Context), содержащая 128 изображений.\n",
        "\n",
        "Это отличный выбор для быстрого прототипирования из-за малого размера.\n"
      ],
      "metadata": {
        "id": "RD4JCfbR-xha"
      }
    },
    {
      "cell_type": "markdown",
      "source": [
        "## 2.\tСоздание бейзлайна и оценка качества"
      ],
      "metadata": {
        "id": "zEnOzSSh_YMH"
      }
    },
    {
      "cell_type": "code",
      "source": [
        "def train_baseline(model_size='m', epochs=20, imgsz=640):\n",
        "    model = YOLO(f'yolov8{model_size}.pt')\n",
        "    results = model.train(\n",
        "        data='coco128.yaml',\n",
        "        epochs=epochs,\n",
        "        imgsz=imgsz,\n",
        "        batch=16,\n",
        "        name=f'yolov8{model_size}_baseline'\n",
        "    )\n",
        "    return model, results"
      ],
      "metadata": {
        "id": "SXummfkR4Uen"
      },
      "execution_count": 9,
      "outputs": []
    },
    {
      "cell_type": "markdown",
      "source": [
        "Обучим модели семейства YOLOv8 на выбранном датасете (выбраны модели yolov8n, yolov8s, yolov8m):"
      ],
      "metadata": {
        "id": "9J98l8T4_acT"
      }
    },
    {
      "cell_type": "code",
      "source": [
        "models = {}\n",
        "for size in ['n', 's', 'm']:\n",
        "    print(f\"\\nTraining YOLOv8{size} baseline...\")\n",
        "    model, results = train_baseline(model_size=size)\n",
        "    models[size] = {\n",
        "        'model': model,\n",
        "        'results': results\n",
        "    }"
      ],
      "metadata": {
        "colab": {
          "base_uri": "https://localhost:8080/"
        },
        "id": "YsqWb1r64b-9",
        "outputId": "bd5ade57-574a-4950-8e95-07e4cef45e91"
      },
      "execution_count": 10,
      "outputs": [
        {
          "output_type": "stream",
          "name": "stdout",
          "text": [
            "\n",
            "Training YOLOv8n baseline...\n",
            "Ultralytics 8.3.130 🚀 Python-3.11.12 torch-2.6.0+cu124 CUDA:0 (Tesla T4, 15095MiB)\n",
            "\u001b[34m\u001b[1mengine/trainer: \u001b[0magnostic_nms=False, amp=True, augment=False, auto_augment=randaugment, batch=16, bgr=0.0, box=7.5, cache=False, cfg=None, classes=None, close_mosaic=10, cls=0.5, conf=None, copy_paste=0.0, copy_paste_mode=flip, cos_lr=False, cutmix=0.0, data=coco128.yaml, degrees=0.0, deterministic=True, device=None, dfl=1.5, dnn=False, dropout=0.0, dynamic=False, embed=None, epochs=20, erasing=0.4, exist_ok=False, fliplr=0.5, flipud=0.0, format=torchscript, fraction=1.0, freeze=None, half=False, hsv_h=0.015, hsv_s=0.7, hsv_v=0.4, imgsz=640, int8=False, iou=0.7, keras=False, kobj=1.0, line_width=None, lr0=0.01, lrf=0.01, mask_ratio=4, max_det=300, mixup=0.0, mode=train, model=yolov8n.pt, momentum=0.937, mosaic=1.0, multi_scale=False, name=yolov8n_baseline2, nbs=64, nms=False, opset=None, optimize=False, optimizer=auto, overlap_mask=True, patience=100, perspective=0.0, plots=True, pose=12.0, pretrained=True, profile=False, project=None, rect=False, resume=False, retina_masks=False, save=True, save_conf=False, save_crop=False, save_dir=runs/detect/yolov8n_baseline2, save_frames=False, save_json=False, save_period=-1, save_txt=False, scale=0.5, seed=0, shear=0.0, show=False, show_boxes=True, show_conf=True, show_labels=True, simplify=True, single_cls=False, source=None, split=val, stream_buffer=False, task=detect, time=None, tracker=botsort.yaml, translate=0.1, val=True, verbose=True, vid_stride=1, visualize=False, warmup_bias_lr=0.1, warmup_epochs=3.0, warmup_momentum=0.8, weight_decay=0.0005, workers=8, workspace=None\n",
            "\n",
            "                   from  n    params  module                                       arguments                     \n",
            "  0                  -1  1       464  ultralytics.nn.modules.conv.Conv             [3, 16, 3, 2]                 \n",
            "  1                  -1  1      4672  ultralytics.nn.modules.conv.Conv             [16, 32, 3, 2]                \n",
            "  2                  -1  1      7360  ultralytics.nn.modules.block.C2f             [32, 32, 1, True]             \n",
            "  3                  -1  1     18560  ultralytics.nn.modules.conv.Conv             [32, 64, 3, 2]                \n",
            "  4                  -1  2     49664  ultralytics.nn.modules.block.C2f             [64, 64, 2, True]             \n",
            "  5                  -1  1     73984  ultralytics.nn.modules.conv.Conv             [64, 128, 3, 2]               \n",
            "  6                  -1  2    197632  ultralytics.nn.modules.block.C2f             [128, 128, 2, True]           \n",
            "  7                  -1  1    295424  ultralytics.nn.modules.conv.Conv             [128, 256, 3, 2]              \n",
            "  8                  -1  1    460288  ultralytics.nn.modules.block.C2f             [256, 256, 1, True]           \n",
            "  9                  -1  1    164608  ultralytics.nn.modules.block.SPPF            [256, 256, 5]                 \n",
            " 10                  -1  1         0  torch.nn.modules.upsampling.Upsample         [None, 2, 'nearest']          \n",
            " 11             [-1, 6]  1         0  ultralytics.nn.modules.conv.Concat           [1]                           \n",
            " 12                  -1  1    148224  ultralytics.nn.modules.block.C2f             [384, 128, 1]                 \n",
            " 13                  -1  1         0  torch.nn.modules.upsampling.Upsample         [None, 2, 'nearest']          \n",
            " 14             [-1, 4]  1         0  ultralytics.nn.modules.conv.Concat           [1]                           \n",
            " 15                  -1  1     37248  ultralytics.nn.modules.block.C2f             [192, 64, 1]                  \n",
            " 16                  -1  1     36992  ultralytics.nn.modules.conv.Conv             [64, 64, 3, 2]                \n",
            " 17            [-1, 12]  1         0  ultralytics.nn.modules.conv.Concat           [1]                           \n",
            " 18                  -1  1    123648  ultralytics.nn.modules.block.C2f             [192, 128, 1]                 \n",
            " 19                  -1  1    147712  ultralytics.nn.modules.conv.Conv             [128, 128, 3, 2]              \n",
            " 20             [-1, 9]  1         0  ultralytics.nn.modules.conv.Concat           [1]                           \n",
            " 21                  -1  1    493056  ultralytics.nn.modules.block.C2f             [384, 256, 1]                 \n",
            " 22        [15, 18, 21]  1    897664  ultralytics.nn.modules.head.Detect           [80, [64, 128, 256]]          \n",
            "Model summary: 129 layers, 3,157,200 parameters, 3,157,184 gradients, 8.9 GFLOPs\n",
            "\n",
            "Transferred 355/355 items from pretrained weights\n",
            "Freezing layer 'model.22.dfl.conv.weight'\n",
            "\u001b[34m\u001b[1mAMP: \u001b[0mrunning Automatic Mixed Precision (AMP) checks...\n",
            "\u001b[34m\u001b[1mAMP: \u001b[0mchecks passed ✅\n",
            "\u001b[34m\u001b[1mtrain: \u001b[0mFast image access ✅ (ping: 0.0±0.0 ms, read: 1008.6±228.1 MB/s, size: 50.9 KB)\n"
          ]
        },
        {
          "output_type": "stream",
          "name": "stderr",
          "text": [
            "\u001b[34m\u001b[1mtrain: \u001b[0mScanning /content/datasets/coco128/labels/train2017.cache... 126 images, 2 backgrounds, 0 corrupt: 100%|██████████| 128/128 [00:00<?, ?it/s]"
          ]
        },
        {
          "output_type": "stream",
          "name": "stdout",
          "text": [
            "\u001b[34m\u001b[1malbumentations: \u001b[0mBlur(p=0.01, blur_limit=(3, 7)), MedianBlur(p=0.01, blur_limit=(3, 7)), ToGray(p=0.01, method='weighted_average', num_output_channels=3), CLAHE(p=0.01, clip_limit=(1.0, 4.0), tile_grid_size=(8, 8))\n"
          ]
        },
        {
          "output_type": "stream",
          "name": "stderr",
          "text": [
            "\n"
          ]
        },
        {
          "output_type": "stream",
          "name": "stdout",
          "text": [
            "\u001b[34m\u001b[1mval: \u001b[0mFast image access ✅ (ping: 0.4±0.9 ms, read: 450.4±124.7 MB/s, size: 52.5 KB)\n"
          ]
        },
        {
          "output_type": "stream",
          "name": "stderr",
          "text": [
            "\u001b[34m\u001b[1mval: \u001b[0mScanning /content/datasets/coco128/labels/train2017.cache... 126 images, 2 backgrounds, 0 corrupt: 100%|██████████| 128/128 [00:00<?, ?it/s]\n"
          ]
        },
        {
          "output_type": "stream",
          "name": "stdout",
          "text": [
            "Plotting labels to runs/detect/yolov8n_baseline2/labels.jpg... \n",
            "\u001b[34m\u001b[1moptimizer:\u001b[0m 'optimizer=auto' found, ignoring 'lr0=0.01' and 'momentum=0.937' and determining best 'optimizer', 'lr0' and 'momentum' automatically... \n",
            "\u001b[34m\u001b[1moptimizer:\u001b[0m AdamW(lr=0.000119, momentum=0.9) with parameter groups 57 weight(decay=0.0), 64 weight(decay=0.0005), 63 bias(decay=0.0)\n",
            "Image sizes 640 train, 640 val\n",
            "Using 2 dataloader workers\n",
            "Logging results to \u001b[1mruns/detect/yolov8n_baseline2\u001b[0m\n",
            "Starting training for 20 epochs...\n",
            "\n",
            "      Epoch    GPU_mem   box_loss   cls_loss   dfl_loss  Instances       Size\n"
          ]
        },
        {
          "output_type": "stream",
          "name": "stderr",
          "text": [
            "       1/20      3.59G      1.156      1.519      1.226        172        640: 100%|██████████| 8/8 [00:02<00:00,  2.68it/s]\n",
            "                 Class     Images  Instances      Box(P          R      mAP50  mAP50-95): 100%|██████████| 4/4 [00:01<00:00,  3.92it/s]"
          ]
        },
        {
          "output_type": "stream",
          "name": "stdout",
          "text": [
            "                   all        128        929      0.649      0.536      0.613      0.454\n"
          ]
        },
        {
          "output_type": "stream",
          "name": "stderr",
          "text": [
            "\n"
          ]
        },
        {
          "output_type": "stream",
          "name": "stdout",
          "text": [
            "\n",
            "      Epoch    GPU_mem   box_loss   cls_loss   dfl_loss  Instances       Size\n"
          ]
        },
        {
          "output_type": "stream",
          "name": "stderr",
          "text": [
            "       2/20      3.59G      1.209      1.436      1.243        231        640: 100%|██████████| 8/8 [00:01<00:00,  4.13it/s]\n",
            "                 Class     Images  Instances      Box(P          R      mAP50  mAP50-95): 100%|██████████| 4/4 [00:01<00:00,  3.30it/s]"
          ]
        },
        {
          "output_type": "stream",
          "name": "stdout",
          "text": [
            "                   all        128        929      0.652      0.558      0.631      0.473\n"
          ]
        },
        {
          "output_type": "stream",
          "name": "stderr",
          "text": [
            "\n"
          ]
        },
        {
          "output_type": "stream",
          "name": "stdout",
          "text": [
            "\n",
            "      Epoch    GPU_mem   box_loss   cls_loss   dfl_loss  Instances       Size\n"
          ]
        },
        {
          "output_type": "stream",
          "name": "stderr",
          "text": [
            "       3/20      3.59G      1.161      1.366      1.252        192        640: 100%|██████████| 8/8 [00:02<00:00,  3.21it/s]\n",
            "                 Class     Images  Instances      Box(P          R      mAP50  mAP50-95): 100%|██████████| 4/4 [00:01<00:00,  3.42it/s]"
          ]
        },
        {
          "output_type": "stream",
          "name": "stdout",
          "text": [
            "                   all        128        929      0.647      0.589      0.646      0.483\n"
          ]
        },
        {
          "output_type": "stream",
          "name": "stderr",
          "text": [
            "\n"
          ]
        },
        {
          "output_type": "stream",
          "name": "stdout",
          "text": [
            "\n",
            "      Epoch    GPU_mem   box_loss   cls_loss   dfl_loss  Instances       Size\n"
          ]
        },
        {
          "output_type": "stream",
          "name": "stderr",
          "text": [
            "       4/20      3.59G      1.165      1.311      1.228        215        640: 100%|██████████| 8/8 [00:02<00:00,  4.00it/s]\n",
            "                 Class     Images  Instances      Box(P          R      mAP50  mAP50-95): 100%|██████████| 4/4 [00:01<00:00,  3.80it/s]"
          ]
        },
        {
          "output_type": "stream",
          "name": "stdout",
          "text": [
            "                   all        128        929       0.67      0.577      0.654      0.488\n"
          ]
        },
        {
          "output_type": "stream",
          "name": "stderr",
          "text": [
            "\n"
          ]
        },
        {
          "output_type": "stream",
          "name": "stdout",
          "text": [
            "\n",
            "      Epoch    GPU_mem   box_loss   cls_loss   dfl_loss  Instances       Size\n"
          ]
        },
        {
          "output_type": "stream",
          "name": "stderr",
          "text": [
            "       5/20      3.59G      1.186      1.315      1.263        236        640: 100%|██████████| 8/8 [00:01<00:00,  4.18it/s]\n",
            "                 Class     Images  Instances      Box(P          R      mAP50  mAP50-95): 100%|██████████| 4/4 [00:01<00:00,  3.44it/s]"
          ]
        },
        {
          "output_type": "stream",
          "name": "stdout",
          "text": [
            "                   all        128        929      0.689      0.576      0.672      0.502\n"
          ]
        },
        {
          "output_type": "stream",
          "name": "stderr",
          "text": [
            "\n"
          ]
        },
        {
          "output_type": "stream",
          "name": "stdout",
          "text": [
            "\n",
            "      Epoch    GPU_mem   box_loss   cls_loss   dfl_loss  Instances       Size\n"
          ]
        },
        {
          "output_type": "stream",
          "name": "stderr",
          "text": [
            "       6/20       3.6G      1.183       1.29      1.231        253        640: 100%|██████████| 8/8 [00:02<00:00,  3.43it/s]\n",
            "                 Class     Images  Instances      Box(P          R      mAP50  mAP50-95): 100%|██████████| 4/4 [00:01<00:00,  2.35it/s]"
          ]
        },
        {
          "output_type": "stream",
          "name": "stdout",
          "text": [
            "                   all        128        929      0.668       0.63      0.686      0.515\n"
          ]
        },
        {
          "output_type": "stream",
          "name": "stderr",
          "text": [
            "\n"
          ]
        },
        {
          "output_type": "stream",
          "name": "stdout",
          "text": [
            "\n",
            "      Epoch    GPU_mem   box_loss   cls_loss   dfl_loss  Instances       Size\n"
          ]
        },
        {
          "output_type": "stream",
          "name": "stderr",
          "text": [
            "       7/20       3.6G      1.085      1.208      1.196        282        640: 100%|██████████| 8/8 [00:01<00:00,  4.41it/s]\n",
            "                 Class     Images  Instances      Box(P          R      mAP50  mAP50-95): 100%|██████████| 4/4 [00:01<00:00,  3.80it/s]"
          ]
        },
        {
          "output_type": "stream",
          "name": "stdout",
          "text": [
            "                   all        128        929      0.683      0.633      0.695      0.522\n"
          ]
        },
        {
          "output_type": "stream",
          "name": "stderr",
          "text": [
            "\n"
          ]
        },
        {
          "output_type": "stream",
          "name": "stdout",
          "text": [
            "\n",
            "      Epoch    GPU_mem   box_loss   cls_loss   dfl_loss  Instances       Size\n"
          ]
        },
        {
          "output_type": "stream",
          "name": "stderr",
          "text": [
            "       8/20       3.6G      1.125      1.208      1.205        192        640: 100%|██████████| 8/8 [00:01<00:00,  4.40it/s]\n",
            "                 Class     Images  Instances      Box(P          R      mAP50  mAP50-95): 100%|██████████| 4/4 [00:01<00:00,  3.46it/s]"
          ]
        },
        {
          "output_type": "stream",
          "name": "stdout",
          "text": [
            "                   all        128        929      0.728      0.646      0.717      0.543\n"
          ]
        },
        {
          "output_type": "stream",
          "name": "stderr",
          "text": [
            "\n"
          ]
        },
        {
          "output_type": "stream",
          "name": "stdout",
          "text": [
            "\n",
            "      Epoch    GPU_mem   box_loss   cls_loss   dfl_loss  Instances       Size\n"
          ]
        },
        {
          "output_type": "stream",
          "name": "stderr",
          "text": [
            "       9/20       3.6G      1.104      1.111      1.187        180        640: 100%|██████████| 8/8 [00:01<00:00,  4.08it/s]\n",
            "                 Class     Images  Instances      Box(P          R      mAP50  mAP50-95): 100%|██████████| 4/4 [00:01<00:00,  2.64it/s]"
          ]
        },
        {
          "output_type": "stream",
          "name": "stdout",
          "text": [
            "                   all        128        929      0.718      0.665       0.72       0.55\n"
          ]
        },
        {
          "output_type": "stream",
          "name": "stderr",
          "text": [
            "\n"
          ]
        },
        {
          "output_type": "stream",
          "name": "stdout",
          "text": [
            "\n",
            "      Epoch    GPU_mem   box_loss   cls_loss   dfl_loss  Instances       Size\n"
          ]
        },
        {
          "output_type": "stream",
          "name": "stderr",
          "text": [
            "      10/20       3.6G      1.072      1.132      1.159        180        640: 100%|██████████| 8/8 [00:02<00:00,  3.44it/s]\n",
            "                 Class     Images  Instances      Box(P          R      mAP50  mAP50-95): 100%|██████████| 4/4 [00:01<00:00,  3.50it/s]"
          ]
        },
        {
          "output_type": "stream",
          "name": "stdout",
          "text": [
            "                   all        128        929      0.711      0.677      0.725      0.554\n"
          ]
        },
        {
          "output_type": "stream",
          "name": "stderr",
          "text": [
            "\n"
          ]
        },
        {
          "output_type": "stream",
          "name": "stdout",
          "text": [
            "Closing dataloader mosaic\n",
            "\u001b[34m\u001b[1malbumentations: \u001b[0mBlur(p=0.01, blur_limit=(3, 7)), MedianBlur(p=0.01, blur_limit=(3, 7)), ToGray(p=0.01, method='weighted_average', num_output_channels=3), CLAHE(p=0.01, clip_limit=(1.0, 4.0), tile_grid_size=(8, 8))\n",
            "\n",
            "      Epoch    GPU_mem   box_loss   cls_loss   dfl_loss  Instances       Size\n"
          ]
        },
        {
          "output_type": "stream",
          "name": "stderr",
          "text": [
            "      11/20       3.6G      1.158      1.238      1.207        169        640: 100%|██████████| 8/8 [00:03<00:00,  2.51it/s]\n",
            "                 Class     Images  Instances      Box(P          R      mAP50  mAP50-95): 100%|██████████| 4/4 [00:01<00:00,  3.46it/s]"
          ]
        },
        {
          "output_type": "stream",
          "name": "stdout",
          "text": [
            "                   all        128        929      0.755      0.656      0.741       0.56\n"
          ]
        },
        {
          "output_type": "stream",
          "name": "stderr",
          "text": [
            "\n"
          ]
        },
        {
          "output_type": "stream",
          "name": "stdout",
          "text": [
            "\n",
            "      Epoch    GPU_mem   box_loss   cls_loss   dfl_loss  Instances       Size\n"
          ]
        },
        {
          "output_type": "stream",
          "name": "stderr",
          "text": [
            "      12/20      3.61G      1.105      1.178      1.168         95        640: 100%|██████████| 8/8 [00:01<00:00,  4.36it/s]\n",
            "                 Class     Images  Instances      Box(P          R      mAP50  mAP50-95): 100%|██████████| 4/4 [00:01<00:00,  3.83it/s]"
          ]
        },
        {
          "output_type": "stream",
          "name": "stdout",
          "text": [
            "                   all        128        929      0.739      0.667      0.748      0.565\n"
          ]
        },
        {
          "output_type": "stream",
          "name": "stderr",
          "text": [
            "\n"
          ]
        },
        {
          "output_type": "stream",
          "name": "stdout",
          "text": [
            "\n",
            "      Epoch    GPU_mem   box_loss   cls_loss   dfl_loss  Instances       Size\n"
          ]
        },
        {
          "output_type": "stream",
          "name": "stderr",
          "text": [
            "      13/20      3.61G      1.112      1.133      1.152        129        640: 100%|██████████| 8/8 [00:02<00:00,  3.33it/s]\n",
            "                 Class     Images  Instances      Box(P          R      mAP50  mAP50-95): 100%|██████████| 4/4 [00:01<00:00,  2.96it/s]"
          ]
        },
        {
          "output_type": "stream",
          "name": "stdout",
          "text": [
            "                   all        128        929       0.72      0.676      0.753      0.567\n"
          ]
        },
        {
          "output_type": "stream",
          "name": "stderr",
          "text": [
            "\n"
          ]
        },
        {
          "output_type": "stream",
          "name": "stdout",
          "text": [
            "\n",
            "      Epoch    GPU_mem   box_loss   cls_loss   dfl_loss  Instances       Size\n"
          ]
        },
        {
          "output_type": "stream",
          "name": "stderr",
          "text": [
            "      14/20      3.63G      1.084      1.098      1.155         77        640: 100%|██████████| 8/8 [00:01<00:00,  4.23it/s]\n",
            "                 Class     Images  Instances      Box(P          R      mAP50  mAP50-95): 100%|██████████| 4/4 [00:00<00:00,  4.05it/s]"
          ]
        },
        {
          "output_type": "stream",
          "name": "stdout",
          "text": [
            "                   all        128        929      0.746      0.655      0.754      0.571\n"
          ]
        },
        {
          "output_type": "stream",
          "name": "stderr",
          "text": [
            "\n"
          ]
        },
        {
          "output_type": "stream",
          "name": "stdout",
          "text": [
            "\n",
            "      Epoch    GPU_mem   box_loss   cls_loss   dfl_loss  Instances       Size\n"
          ]
        },
        {
          "output_type": "stream",
          "name": "stderr",
          "text": [
            "      15/20      3.63G      1.093      1.059      1.155        125        640: 100%|██████████| 8/8 [00:01<00:00,  4.49it/s]\n",
            "                 Class     Images  Instances      Box(P          R      mAP50  mAP50-95): 100%|██████████| 4/4 [00:01<00:00,  3.88it/s]"
          ]
        },
        {
          "output_type": "stream",
          "name": "stdout",
          "text": [
            "                   all        128        929      0.728      0.657      0.754      0.572\n"
          ]
        },
        {
          "output_type": "stream",
          "name": "stderr",
          "text": [
            "\n"
          ]
        },
        {
          "output_type": "stream",
          "name": "stdout",
          "text": [
            "\n",
            "      Epoch    GPU_mem   box_loss   cls_loss   dfl_loss  Instances       Size\n"
          ]
        },
        {
          "output_type": "stream",
          "name": "stderr",
          "text": [
            "      16/20      3.65G      1.085      1.038      1.143        105        640: 100%|██████████| 8/8 [00:01<00:00,  4.41it/s]\n",
            "                 Class     Images  Instances      Box(P          R      mAP50  mAP50-95): 100%|██████████| 4/4 [00:01<00:00,  3.01it/s]"
          ]
        },
        {
          "output_type": "stream",
          "name": "stdout",
          "text": [
            "                   all        128        929      0.781      0.636      0.758      0.575\n"
          ]
        },
        {
          "output_type": "stream",
          "name": "stderr",
          "text": [
            "\n"
          ]
        },
        {
          "output_type": "stream",
          "name": "stdout",
          "text": [
            "\n",
            "      Epoch    GPU_mem   box_loss   cls_loss   dfl_loss  Instances       Size\n"
          ]
        },
        {
          "output_type": "stream",
          "name": "stderr",
          "text": [
            "      17/20      3.65G       1.05      1.044      1.134        103        640: 100%|██████████| 8/8 [00:02<00:00,  3.56it/s]\n",
            "                 Class     Images  Instances      Box(P          R      mAP50  mAP50-95): 100%|██████████| 4/4 [00:01<00:00,  3.84it/s]"
          ]
        },
        {
          "output_type": "stream",
          "name": "stdout",
          "text": [
            "                   all        128        929      0.712      0.688       0.76      0.578\n"
          ]
        },
        {
          "output_type": "stream",
          "name": "stderr",
          "text": [
            "\n"
          ]
        },
        {
          "output_type": "stream",
          "name": "stdout",
          "text": [
            "\n",
            "      Epoch    GPU_mem   box_loss   cls_loss   dfl_loss  Instances       Size\n"
          ]
        },
        {
          "output_type": "stream",
          "name": "stderr",
          "text": [
            "      18/20      3.65G      1.026      1.026       1.12        109        640: 100%|██████████| 8/8 [00:01<00:00,  4.38it/s]\n",
            "                 Class     Images  Instances      Box(P          R      mAP50  mAP50-95): 100%|██████████| 4/4 [00:01<00:00,  3.67it/s]"
          ]
        },
        {
          "output_type": "stream",
          "name": "stdout",
          "text": [
            "                   all        128        929      0.759      0.653      0.755      0.579\n"
          ]
        },
        {
          "output_type": "stream",
          "name": "stderr",
          "text": [
            "\n"
          ]
        },
        {
          "output_type": "stream",
          "name": "stdout",
          "text": [
            "\n",
            "      Epoch    GPU_mem   box_loss   cls_loss   dfl_loss  Instances       Size\n"
          ]
        },
        {
          "output_type": "stream",
          "name": "stderr",
          "text": [
            "      19/20      3.67G      1.073       1.03      1.129        139        640: 100%|██████████| 8/8 [00:01<00:00,  4.53it/s]\n",
            "                 Class     Images  Instances      Box(P          R      mAP50  mAP50-95): 100%|██████████| 4/4 [00:01<00:00,  3.21it/s]"
          ]
        },
        {
          "output_type": "stream",
          "name": "stdout",
          "text": [
            "                   all        128        929      0.779      0.663       0.76      0.583\n"
          ]
        },
        {
          "output_type": "stream",
          "name": "stderr",
          "text": [
            "\n"
          ]
        },
        {
          "output_type": "stream",
          "name": "stdout",
          "text": [
            "\n",
            "      Epoch    GPU_mem   box_loss   cls_loss   dfl_loss  Instances       Size\n"
          ]
        },
        {
          "output_type": "stream",
          "name": "stderr",
          "text": [
            "      20/20      3.67G      1.055      1.003      1.132         91        640: 100%|██████████| 8/8 [00:01<00:00,  4.08it/s]\n",
            "                 Class     Images  Instances      Box(P          R      mAP50  mAP50-95): 100%|██████████| 4/4 [00:01<00:00,  2.39it/s]"
          ]
        },
        {
          "output_type": "stream",
          "name": "stdout",
          "text": [
            "                   all        128        929      0.772      0.659      0.763      0.582\n"
          ]
        },
        {
          "output_type": "stream",
          "name": "stderr",
          "text": [
            "\n"
          ]
        },
        {
          "output_type": "stream",
          "name": "stdout",
          "text": [
            "\n",
            "20 epochs completed in 0.021 hours.\n",
            "Optimizer stripped from runs/detect/yolov8n_baseline2/weights/last.pt, 6.5MB\n",
            "Optimizer stripped from runs/detect/yolov8n_baseline2/weights/best.pt, 6.5MB\n",
            "\n",
            "Validating runs/detect/yolov8n_baseline2/weights/best.pt...\n",
            "Ultralytics 8.3.130 🚀 Python-3.11.12 torch-2.6.0+cu124 CUDA:0 (Tesla T4, 15095MiB)\n",
            "Model summary (fused): 72 layers, 3,151,904 parameters, 0 gradients, 8.7 GFLOPs\n"
          ]
        },
        {
          "output_type": "stream",
          "name": "stderr",
          "text": [
            "                 Class     Images  Instances      Box(P          R      mAP50  mAP50-95): 100%|██████████| 4/4 [00:02<00:00,  1.70it/s]\n"
          ]
        },
        {
          "output_type": "stream",
          "name": "stdout",
          "text": [
            "                   all        128        929      0.776      0.659      0.759      0.583\n",
            "                person         61        254      0.909      0.634       0.79      0.583\n",
            "               bicycle          3          6      0.789      0.333      0.414      0.339\n",
            "                   car         12         46      0.724      0.239      0.377      0.225\n",
            "            motorcycle          4          5          1      0.968      0.995      0.876\n",
            "              airplane          5          6      0.815          1      0.972      0.858\n",
            "                   bus          5          7      0.849      0.714      0.723      0.673\n",
            "                 train          3          3      0.724          1      0.995      0.853\n",
            "                 truck          5         12      0.819        0.5      0.569      0.405\n",
            "                  boat          2          6      0.617      0.333      0.578      0.367\n",
            "         traffic light          4         14      0.577      0.143      0.181      0.155\n",
            "             stop sign          2          2      0.722          1      0.995      0.711\n",
            "                 bench          5          9      0.964      0.667      0.876      0.679\n",
            "                  bird          2         16          1      0.915      0.983      0.697\n",
            "                   cat          4          4      0.686          1      0.895      0.814\n",
            "                   dog          9          9      0.928      0.889      0.956      0.805\n",
            "                 horse          1          2      0.748          1      0.995      0.697\n",
            "              elephant          4         17      0.887      0.941      0.975      0.777\n",
            "                  bear          1          1      0.624          1      0.995      0.995\n",
            "                 zebra          2          4      0.883          1      0.995      0.974\n",
            "               giraffe          4          9      0.877          1      0.995      0.747\n",
            "              backpack          4          6      0.973      0.333      0.439      0.286\n",
            "              umbrella          4         18      0.701      0.653      0.735      0.501\n",
            "               handbag          9         19      0.702      0.158      0.344      0.192\n",
            "                   tie          6          7       0.77      0.857      0.796      0.606\n",
            "              suitcase          2          4      0.779          1      0.895      0.615\n",
            "               frisbee          5          5      0.769        0.8      0.799      0.689\n",
            "                  skis          1          1          1          0      0.995      0.547\n",
            "             snowboard          2          7      0.548      0.867      0.828      0.602\n",
            "           sports ball          6          6      0.633      0.167       0.57      0.332\n",
            "                  kite          2         10      0.606        0.3       0.49      0.222\n",
            "          baseball bat          4          4      0.699       0.25      0.434       0.26\n",
            "        baseball glove          4          7      0.967      0.429      0.434      0.306\n",
            "            skateboard          3          5      0.806        0.6      0.641      0.473\n",
            "         tennis racket          5          7      0.549      0.429      0.609      0.403\n",
            "                bottle          6         18      0.698      0.258      0.568      0.336\n",
            "            wine glass          5         16      0.793      0.688      0.815      0.428\n",
            "                   cup         10         36      0.932      0.383      0.626      0.435\n",
            "                  fork          6          6          1      0.286      0.492      0.408\n",
            "                 knife          7         16      0.817      0.625      0.671      0.437\n",
            "                 spoon          5         22      0.578      0.409      0.441      0.274\n",
            "                  bowl          9         28      0.822      0.786       0.82      0.695\n",
            "                banana          1          1       0.88          1      0.995      0.796\n",
            "              sandwich          2          2      0.804          1      0.995      0.995\n",
            "                orange          1          4      0.665          1      0.995      0.666\n",
            "              broccoli          4         11      0.556      0.364       0.45      0.329\n",
            "                carrot          3         24      0.828      0.801      0.863       0.56\n",
            "               hot dog          1          2      0.749          1      0.995      0.995\n",
            "                 pizza          5          5        0.9          1      0.995      0.946\n",
            "                 donut          2         14      0.627          1      0.963      0.881\n",
            "                  cake          4          4      0.871          1      0.995      0.921\n",
            "                 chair          9         35      0.638      0.571      0.611      0.383\n",
            "                 couch          5          6      0.653      0.667      0.845      0.679\n",
            "          potted plant          9         14      0.905      0.714      0.814      0.595\n",
            "                   bed          3          3      0.838          1      0.995      0.798\n",
            "          dining table         10         13      0.686      0.692      0.657      0.543\n",
            "                toilet          2          2      0.805          1      0.995      0.945\n",
            "                    tv          2          2      0.785          1      0.995      0.896\n",
            "                laptop          2          3      0.763      0.667      0.913       0.79\n",
            "                 mouse          2          2          1          0      0.142     0.0466\n",
            "                remote          5          8      0.963      0.625      0.684      0.566\n",
            "            cell phone          5          8      0.307      0.125       0.17      0.138\n",
            "             microwave          3          3      0.709      0.667      0.913      0.791\n",
            "                  oven          5          5      0.873        0.6        0.6       0.44\n",
            "                  sink          4          6      0.518        0.5      0.562      0.375\n",
            "          refrigerator          5          5          1      0.931      0.995      0.827\n",
            "                  book          6         29      0.646      0.252      0.557      0.302\n",
            "                 clock          8          9      0.897      0.889      0.903      0.817\n",
            "                  vase          2          2      0.376        0.5      0.745       0.72\n",
            "              scissors          1          1          1          0      0.995     0.0995\n",
            "            teddy bear          6         21      0.823      0.667      0.843       0.59\n",
            "            toothbrush          2          5      0.736          1      0.995      0.658\n",
            "Speed: 0.3ms preprocess, 2.9ms inference, 0.0ms loss, 3.1ms postprocess per image\n",
            "Results saved to \u001b[1mruns/detect/yolov8n_baseline2\u001b[0m\n",
            "\n",
            "Training YOLOv8s baseline...\n",
            "Downloading https://github.com/ultralytics/assets/releases/download/v8.3.0/yolov8s.pt to 'yolov8s.pt'...\n"
          ]
        },
        {
          "output_type": "stream",
          "name": "stderr",
          "text": [
            "100%|██████████| 21.5M/21.5M [00:00<00:00, 45.1MB/s]"
          ]
        },
        {
          "output_type": "stream",
          "name": "stdout",
          "text": [
            "Ultralytics 8.3.130 🚀 Python-3.11.12 torch-2.6.0+cu124 CUDA:0 (Tesla T4, 15095MiB)\n",
            "\u001b[34m\u001b[1mengine/trainer: \u001b[0magnostic_nms=False, amp=True, augment=False, auto_augment=randaugment, batch=16, bgr=0.0, box=7.5, cache=False, cfg=None, classes=None, close_mosaic=10, cls=0.5, conf=None, copy_paste=0.0, copy_paste_mode=flip, cos_lr=False, cutmix=0.0, data=coco128.yaml, degrees=0.0, deterministic=True, device=None, dfl=1.5, dnn=False, dropout=0.0, dynamic=False, embed=None, epochs=20, erasing=0.4, exist_ok=False, fliplr=0.5, flipud=0.0, format=torchscript, fraction=1.0, freeze=None, half=False, hsv_h=0.015, hsv_s=0.7, hsv_v=0.4, imgsz=640, int8=False, iou=0.7, keras=False, kobj=1.0, line_width=None, lr0=0.01, lrf=0.01, mask_ratio=4, max_det=300, mixup=0.0, mode=train, model=yolov8s.pt, momentum=0.937, mosaic=1.0, multi_scale=False, name=yolov8s_baseline, nbs=64, nms=False, opset=None, optimize=False, optimizer=auto, overlap_mask=True, patience=100, perspective=0.0, plots=True, pose=12.0, pretrained=True, profile=False, project=None, rect=False, resume=False, retina_masks=False, save=True, save_conf=False, save_crop=False, save_dir=runs/detect/yolov8s_baseline, save_frames=False, save_json=False, save_period=-1, save_txt=False, scale=0.5, seed=0, shear=0.0, show=False, show_boxes=True, show_conf=True, show_labels=True, simplify=True, single_cls=False, source=None, split=val, stream_buffer=False, task=detect, time=None, tracker=botsort.yaml, translate=0.1, val=True, verbose=True, vid_stride=1, visualize=False, warmup_bias_lr=0.1, warmup_epochs=3.0, warmup_momentum=0.8, weight_decay=0.0005, workers=8, workspace=None\n",
            "\n",
            "                   from  n    params  module                                       arguments                     \n",
            "  0                  -1  1       928  ultralytics.nn.modules.conv.Conv             [3, 32, 3, 2]                 \n",
            "  1                  -1  1     18560  ultralytics.nn.modules.conv.Conv             [32, 64, 3, 2]                \n",
            "  2                  -1  1     29056  ultralytics.nn.modules.block.C2f             [64, 64, 1, True]             \n",
            "  3                  -1  1     73984  ultralytics.nn.modules.conv.Conv             [64, 128, 3, 2]               \n",
            "  4                  -1  2    197632  ultralytics.nn.modules.block.C2f             [128, 128, 2, True]           \n",
            "  5                  -1  1    295424  ultralytics.nn.modules.conv.Conv             [128, 256, 3, 2]              \n",
            "  6                  -1  2    788480  ultralytics.nn.modules.block.C2f             [256, 256, 2, True]           \n",
            "  7                  -1  1   1180672  ultralytics.nn.modules.conv.Conv             [256, 512, 3, 2]              \n",
            "  8                  -1  1   1838080  ultralytics.nn.modules.block.C2f             [512, 512, 1, True]           \n",
            "  9                  -1  1    656896  ultralytics.nn.modules.block.SPPF            [512, 512, 5]                 \n",
            " 10                  -1  1         0  torch.nn.modules.upsampling.Upsample         [None, 2, 'nearest']          \n",
            " 11             [-1, 6]  1         0  ultralytics.nn.modules.conv.Concat           [1]                           \n",
            " 12                  -1  1    591360  ultralytics.nn.modules.block.C2f             [768, 256, 1]                 \n",
            " 13                  -1  1         0  torch.nn.modules.upsampling.Upsample         [None, 2, 'nearest']          \n",
            " 14             [-1, 4]  1         0  ultralytics.nn.modules.conv.Concat           [1]                           \n",
            " 15                  -1  1    148224  ultralytics.nn.modules.block.C2f             [384, 128, 1]                 \n",
            " 16                  -1  1    147712  ultralytics.nn.modules.conv.Conv             [128, 128, 3, 2]              \n",
            " 17            [-1, 12]  1         0  ultralytics.nn.modules.conv.Concat           [1]                           \n",
            " 18                  -1  1    493056  ultralytics.nn.modules.block.C2f             [384, 256, 1]                 \n",
            " 19                  -1  1    590336  ultralytics.nn.modules.conv.Conv             [256, 256, 3, 2]              \n",
            " 20             [-1, 9]  1         0  ultralytics.nn.modules.conv.Concat           [1]                           \n"
          ]
        },
        {
          "output_type": "stream",
          "name": "stderr",
          "text": [
            "\n"
          ]
        },
        {
          "output_type": "stream",
          "name": "stdout",
          "text": [
            " 21                  -1  1   1969152  ultralytics.nn.modules.block.C2f             [768, 512, 1]                 \n",
            " 22        [15, 18, 21]  1   2147008  ultralytics.nn.modules.head.Detect           [80, [128, 256, 512]]         \n",
            "Model summary: 129 layers, 11,166,560 parameters, 11,166,544 gradients, 28.8 GFLOPs\n",
            "\n",
            "Transferred 355/355 items from pretrained weights\n",
            "Freezing layer 'model.22.dfl.conv.weight'\n",
            "\u001b[34m\u001b[1mAMP: \u001b[0mrunning Automatic Mixed Precision (AMP) checks...\n",
            "\u001b[34m\u001b[1mAMP: \u001b[0mchecks passed ✅\n",
            "\u001b[34m\u001b[1mtrain: \u001b[0mFast image access ✅ (ping: 0.0±0.0 ms, read: 1436.4±544.1 MB/s, size: 50.9 KB)\n"
          ]
        },
        {
          "output_type": "stream",
          "name": "stderr",
          "text": [
            "\u001b[34m\u001b[1mtrain: \u001b[0mScanning /content/datasets/coco128/labels/train2017.cache... 126 images, 2 backgrounds, 0 corrupt: 100%|██████████| 128/128 [00:00<?, ?it/s]"
          ]
        },
        {
          "output_type": "stream",
          "name": "stdout",
          "text": [
            "\u001b[34m\u001b[1malbumentations: \u001b[0mBlur(p=0.01, blur_limit=(3, 7)), MedianBlur(p=0.01, blur_limit=(3, 7)), ToGray(p=0.01, method='weighted_average', num_output_channels=3), CLAHE(p=0.01, clip_limit=(1.0, 4.0), tile_grid_size=(8, 8))\n"
          ]
        },
        {
          "output_type": "stream",
          "name": "stderr",
          "text": [
            "\n"
          ]
        },
        {
          "output_type": "stream",
          "name": "stdout",
          "text": [
            "\u001b[34m\u001b[1mval: \u001b[0mFast image access ✅ (ping: 0.0±0.0 ms, read: 359.6±109.9 MB/s, size: 52.5 KB)\n"
          ]
        },
        {
          "output_type": "stream",
          "name": "stderr",
          "text": [
            "\u001b[34m\u001b[1mval: \u001b[0mScanning /content/datasets/coco128/labels/train2017.cache... 126 images, 2 backgrounds, 0 corrupt: 100%|██████████| 128/128 [00:00<?, ?it/s]\n"
          ]
        },
        {
          "output_type": "stream",
          "name": "stdout",
          "text": [
            "Plotting labels to runs/detect/yolov8s_baseline/labels.jpg... \n",
            "\u001b[34m\u001b[1moptimizer:\u001b[0m 'optimizer=auto' found, ignoring 'lr0=0.01' and 'momentum=0.937' and determining best 'optimizer', 'lr0' and 'momentum' automatically... \n",
            "\u001b[34m\u001b[1moptimizer:\u001b[0m AdamW(lr=0.000119, momentum=0.9) with parameter groups 57 weight(decay=0.0), 64 weight(decay=0.0005), 63 bias(decay=0.0)\n",
            "Image sizes 640 train, 640 val\n",
            "Using 2 dataloader workers\n",
            "Logging results to \u001b[1mruns/detect/yolov8s_baseline\u001b[0m\n",
            "Starting training for 20 epochs...\n",
            "\n",
            "      Epoch    GPU_mem   box_loss   cls_loss   dfl_loss  Instances       Size\n"
          ]
        },
        {
          "output_type": "stream",
          "name": "stderr",
          "text": [
            "       1/20      4.04G       1.04      1.095      1.182        172        640: 100%|██████████| 8/8 [00:03<00:00,  2.41it/s]\n",
            "                 Class     Images  Instances      Box(P          R      mAP50  mAP50-95): 100%|██████████| 4/4 [00:01<00:00,  3.06it/s]"
          ]
        },
        {
          "output_type": "stream",
          "name": "stdout",
          "text": [
            "                   all        128        929      0.814      0.675      0.773      0.598\n"
          ]
        },
        {
          "output_type": "stream",
          "name": "stderr",
          "text": [
            "\n"
          ]
        },
        {
          "output_type": "stream",
          "name": "stdout",
          "text": [
            "\n",
            "      Epoch    GPU_mem   box_loss   cls_loss   dfl_loss  Instances       Size\n"
          ]
        },
        {
          "output_type": "stream",
          "name": "stderr",
          "text": [
            "       2/20      5.02G      1.073      1.071      1.181        231        640: 100%|██████████| 8/8 [00:02<00:00,  2.73it/s]\n",
            "                 Class     Images  Instances      Box(P          R      mAP50  mAP50-95): 100%|██████████| 4/4 [00:01<00:00,  3.40it/s]"
          ]
        },
        {
          "output_type": "stream",
          "name": "stdout",
          "text": [
            "                   all        128        929      0.807        0.7      0.788      0.613\n"
          ]
        },
        {
          "output_type": "stream",
          "name": "stderr",
          "text": [
            "\n"
          ]
        },
        {
          "output_type": "stream",
          "name": "stdout",
          "text": [
            "\n",
            "      Epoch    GPU_mem   box_loss   cls_loss   dfl_loss  Instances       Size\n"
          ]
        },
        {
          "output_type": "stream",
          "name": "stderr",
          "text": [
            "       3/20      5.04G      1.028      1.016      1.194        192        640: 100%|██████████| 8/8 [00:02<00:00,  3.26it/s]\n",
            "                 Class     Images  Instances      Box(P          R      mAP50  mAP50-95): 100%|██████████| 4/4 [00:01<00:00,  3.36it/s]"
          ]
        },
        {
          "output_type": "stream",
          "name": "stdout",
          "text": [
            "                   all        128        929      0.799      0.712      0.791      0.616\n"
          ]
        },
        {
          "output_type": "stream",
          "name": "stderr",
          "text": [
            "\n"
          ]
        },
        {
          "output_type": "stream",
          "name": "stdout",
          "text": [
            "\n",
            "      Epoch    GPU_mem   box_loss   cls_loss   dfl_loss  Instances       Size\n"
          ]
        },
        {
          "output_type": "stream",
          "name": "stderr",
          "text": [
            "       4/20      5.06G      1.043      0.954      1.163        215        640: 100%|██████████| 8/8 [00:02<00:00,  3.22it/s]\n",
            "                 Class     Images  Instances      Box(P          R      mAP50  mAP50-95): 100%|██████████| 4/4 [00:01<00:00,  2.36it/s]"
          ]
        },
        {
          "output_type": "stream",
          "name": "stdout",
          "text": [
            "                   all        128        929      0.777      0.728      0.798       0.62\n"
          ]
        },
        {
          "output_type": "stream",
          "name": "stderr",
          "text": [
            "\n"
          ]
        },
        {
          "output_type": "stream",
          "name": "stdout",
          "text": [
            "\n",
            "      Epoch    GPU_mem   box_loss   cls_loss   dfl_loss  Instances       Size\n"
          ]
        },
        {
          "output_type": "stream",
          "name": "stderr",
          "text": [
            "       5/20       5.1G      1.034     0.9437      1.165        236        640: 100%|██████████| 8/8 [00:02<00:00,  3.07it/s]\n",
            "                 Class     Images  Instances      Box(P          R      mAP50  mAP50-95): 100%|██████████| 4/4 [00:01<00:00,  3.30it/s]"
          ]
        },
        {
          "output_type": "stream",
          "name": "stdout",
          "text": [
            "                   all        128        929      0.752      0.744      0.806      0.629\n"
          ]
        },
        {
          "output_type": "stream",
          "name": "stderr",
          "text": [
            "\n"
          ]
        },
        {
          "output_type": "stream",
          "name": "stdout",
          "text": [
            "\n",
            "      Epoch    GPU_mem   box_loss   cls_loss   dfl_loss  Instances       Size\n"
          ]
        },
        {
          "output_type": "stream",
          "name": "stderr",
          "text": [
            "       6/20       5.1G      1.027     0.9386      1.148        253        640: 100%|██████████| 8/8 [00:02<00:00,  3.17it/s]\n",
            "                 Class     Images  Instances      Box(P          R      mAP50  mAP50-95): 100%|██████████| 4/4 [00:01<00:00,  3.31it/s]"
          ]
        },
        {
          "output_type": "stream",
          "name": "stdout",
          "text": [
            "                   all        128        929      0.819      0.722      0.821      0.646\n"
          ]
        },
        {
          "output_type": "stream",
          "name": "stderr",
          "text": [
            "\n"
          ]
        },
        {
          "output_type": "stream",
          "name": "stdout",
          "text": [
            "\n",
            "      Epoch    GPU_mem   box_loss   cls_loss   dfl_loss  Instances       Size\n"
          ]
        },
        {
          "output_type": "stream",
          "name": "stderr",
          "text": [
            "       7/20       5.1G     0.9638      0.841      1.127        282        640: 100%|██████████| 8/8 [00:02<00:00,  3.11it/s]\n",
            "                 Class     Images  Instances      Box(P          R      mAP50  mAP50-95): 100%|██████████| 4/4 [00:01<00:00,  2.40it/s]"
          ]
        },
        {
          "output_type": "stream",
          "name": "stdout",
          "text": [
            "                   all        128        929      0.813      0.745      0.824       0.65\n"
          ]
        },
        {
          "output_type": "stream",
          "name": "stderr",
          "text": [
            "\n"
          ]
        },
        {
          "output_type": "stream",
          "name": "stdout",
          "text": [
            "\n",
            "      Epoch    GPU_mem   box_loss   cls_loss   dfl_loss  Instances       Size\n"
          ]
        },
        {
          "output_type": "stream",
          "name": "stderr",
          "text": [
            "       8/20      5.13G     0.9746     0.8598      1.118        192        640: 100%|██████████| 8/8 [00:02<00:00,  3.22it/s]\n",
            "                 Class     Images  Instances      Box(P          R      mAP50  mAP50-95): 100%|██████████| 4/4 [00:01<00:00,  3.36it/s]"
          ]
        },
        {
          "output_type": "stream",
          "name": "stdout",
          "text": [
            "                   all        128        929      0.802      0.764       0.83      0.659\n"
          ]
        },
        {
          "output_type": "stream",
          "name": "stderr",
          "text": [
            "\n"
          ]
        },
        {
          "output_type": "stream",
          "name": "stdout",
          "text": [
            "\n",
            "      Epoch    GPU_mem   box_loss   cls_loss   dfl_loss  Instances       Size\n"
          ]
        },
        {
          "output_type": "stream",
          "name": "stderr",
          "text": [
            "       9/20      5.13G     0.9596     0.8025      1.101        180        640: 100%|██████████| 8/8 [00:02<00:00,  3.23it/s]\n",
            "                 Class     Images  Instances      Box(P          R      mAP50  mAP50-95): 100%|██████████| 4/4 [00:01<00:00,  3.41it/s]"
          ]
        },
        {
          "output_type": "stream",
          "name": "stdout",
          "text": [
            "                   all        128        929      0.818      0.767      0.838       0.67\n"
          ]
        },
        {
          "output_type": "stream",
          "name": "stderr",
          "text": [
            "\n"
          ]
        },
        {
          "output_type": "stream",
          "name": "stdout",
          "text": [
            "\n",
            "      Epoch    GPU_mem   box_loss   cls_loss   dfl_loss  Instances       Size\n"
          ]
        },
        {
          "output_type": "stream",
          "name": "stderr",
          "text": [
            "      10/20      5.17G     0.9091      0.798      1.066        180        640: 100%|██████████| 8/8 [00:02<00:00,  3.13it/s]\n",
            "                 Class     Images  Instances      Box(P          R      mAP50  mAP50-95): 100%|██████████| 4/4 [00:01<00:00,  2.20it/s]"
          ]
        },
        {
          "output_type": "stream",
          "name": "stdout",
          "text": [
            "                   all        128        929      0.809      0.777       0.84      0.674\n"
          ]
        },
        {
          "output_type": "stream",
          "name": "stderr",
          "text": [
            "\n"
          ]
        },
        {
          "output_type": "stream",
          "name": "stdout",
          "text": [
            "Closing dataloader mosaic\n",
            "\u001b[34m\u001b[1malbumentations: \u001b[0mBlur(p=0.01, blur_limit=(3, 7)), MedianBlur(p=0.01, blur_limit=(3, 7)), ToGray(p=0.01, method='weighted_average', num_output_channels=3), CLAHE(p=0.01, clip_limit=(1.0, 4.0), tile_grid_size=(8, 8))\n",
            "\n",
            "      Epoch    GPU_mem   box_loss   cls_loss   dfl_loss  Instances       Size\n"
          ]
        },
        {
          "output_type": "stream",
          "name": "stderr",
          "text": [
            "      11/20      5.17G      1.038      1.049      1.124        169        640: 100%|██████████| 8/8 [00:04<00:00,  1.91it/s]\n",
            "                 Class     Images  Instances      Box(P          R      mAP50  mAP50-95): 100%|██████████| 4/4 [00:01<00:00,  3.08it/s]"
          ]
        },
        {
          "output_type": "stream",
          "name": "stdout",
          "text": [
            "                   all        128        929      0.878      0.757      0.847      0.679\n"
          ]
        },
        {
          "output_type": "stream",
          "name": "stderr",
          "text": [
            "\n"
          ]
        },
        {
          "output_type": "stream",
          "name": "stdout",
          "text": [
            "\n",
            "      Epoch    GPU_mem   box_loss   cls_loss   dfl_loss  Instances       Size\n"
          ]
        },
        {
          "output_type": "stream",
          "name": "stderr",
          "text": [
            "      12/20      5.17G     0.9611     0.9498      1.072         95        640: 100%|██████████| 8/8 [00:02<00:00,  3.47it/s]\n",
            "                 Class     Images  Instances      Box(P          R      mAP50  mAP50-95): 100%|██████████| 4/4 [00:01<00:00,  3.01it/s]"
          ]
        },
        {
          "output_type": "stream",
          "name": "stdout",
          "text": [
            "                   all        128        929      0.895      0.744      0.859      0.683\n"
          ]
        },
        {
          "output_type": "stream",
          "name": "stderr",
          "text": [
            "\n"
          ]
        },
        {
          "output_type": "stream",
          "name": "stdout",
          "text": [
            "\n",
            "      Epoch    GPU_mem   box_loss   cls_loss   dfl_loss  Instances       Size\n"
          ]
        },
        {
          "output_type": "stream",
          "name": "stderr",
          "text": [
            "      13/20      5.17G     0.9729     0.8964      1.066        129        640: 100%|██████████| 8/8 [00:02<00:00,  3.13it/s]\n",
            "                 Class     Images  Instances      Box(P          R      mAP50  mAP50-95): 100%|██████████| 4/4 [00:01<00:00,  3.45it/s]"
          ]
        },
        {
          "output_type": "stream",
          "name": "stdout",
          "text": [
            "                   all        128        929      0.895      0.753      0.862      0.683\n"
          ]
        },
        {
          "output_type": "stream",
          "name": "stderr",
          "text": [
            "\n"
          ]
        },
        {
          "output_type": "stream",
          "name": "stdout",
          "text": [
            "\n",
            "      Epoch    GPU_mem   box_loss   cls_loss   dfl_loss  Instances       Size\n"
          ]
        },
        {
          "output_type": "stream",
          "name": "stderr",
          "text": [
            "      14/20      5.17G     0.9198     0.7832      1.058         77        640: 100%|██████████| 8/8 [00:02<00:00,  3.41it/s]\n",
            "                 Class     Images  Instances      Box(P          R      mAP50  mAP50-95): 100%|██████████| 4/4 [00:01<00:00,  3.43it/s]"
          ]
        },
        {
          "output_type": "stream",
          "name": "stdout",
          "text": [
            "                   all        128        929      0.828      0.805      0.865      0.687\n"
          ]
        },
        {
          "output_type": "stream",
          "name": "stderr",
          "text": [
            "\n"
          ]
        },
        {
          "output_type": "stream",
          "name": "stdout",
          "text": [
            "\n",
            "      Epoch    GPU_mem   box_loss   cls_loss   dfl_loss  Instances       Size\n"
          ]
        },
        {
          "output_type": "stream",
          "name": "stderr",
          "text": [
            "      15/20       5.2G     0.9192     0.7649      1.046        125        640: 100%|██████████| 8/8 [00:02<00:00,  3.47it/s]\n",
            "                 Class     Images  Instances      Box(P          R      mAP50  mAP50-95): 100%|██████████| 4/4 [00:01<00:00,  3.00it/s]"
          ]
        },
        {
          "output_type": "stream",
          "name": "stdout",
          "text": [
            "                   all        128        929      0.826      0.804      0.864      0.688\n"
          ]
        },
        {
          "output_type": "stream",
          "name": "stderr",
          "text": [
            "\n"
          ]
        },
        {
          "output_type": "stream",
          "name": "stdout",
          "text": [
            "\n",
            "      Epoch    GPU_mem   box_loss   cls_loss   dfl_loss  Instances       Size\n"
          ]
        },
        {
          "output_type": "stream",
          "name": "stderr",
          "text": [
            "      16/20       5.2G      0.897      0.723      1.035        105        640: 100%|██████████| 8/8 [00:02<00:00,  3.01it/s]\n",
            "                 Class     Images  Instances      Box(P          R      mAP50  mAP50-95): 100%|██████████| 4/4 [00:01<00:00,  3.44it/s]"
          ]
        },
        {
          "output_type": "stream",
          "name": "stdout",
          "text": [
            "                   all        128        929      0.825      0.805      0.865       0.69\n"
          ]
        },
        {
          "output_type": "stream",
          "name": "stderr",
          "text": [
            "\n"
          ]
        },
        {
          "output_type": "stream",
          "name": "stdout",
          "text": [
            "\n",
            "      Epoch    GPU_mem   box_loss   cls_loss   dfl_loss  Instances       Size\n"
          ]
        },
        {
          "output_type": "stream",
          "name": "stderr",
          "text": [
            "      17/20      5.24G     0.8723     0.6916      1.026        103        640: 100%|██████████| 8/8 [00:02<00:00,  3.48it/s]\n",
            "                 Class     Images  Instances      Box(P          R      mAP50  mAP50-95): 100%|██████████| 4/4 [00:01<00:00,  3.47it/s]"
          ]
        },
        {
          "output_type": "stream",
          "name": "stdout",
          "text": [
            "                   all        128        929      0.832      0.802      0.866      0.693\n"
          ]
        },
        {
          "output_type": "stream",
          "name": "stderr",
          "text": [
            "\n"
          ]
        },
        {
          "output_type": "stream",
          "name": "stdout",
          "text": [
            "\n",
            "      Epoch    GPU_mem   box_loss   cls_loss   dfl_loss  Instances       Size\n"
          ]
        },
        {
          "output_type": "stream",
          "name": "stderr",
          "text": [
            "      18/20      5.24G     0.8773     0.7134      1.031        109        640: 100%|██████████| 8/8 [00:02<00:00,  3.33it/s]\n",
            "                 Class     Images  Instances      Box(P          R      mAP50  mAP50-95): 100%|██████████| 4/4 [00:01<00:00,  2.87it/s]"
          ]
        },
        {
          "output_type": "stream",
          "name": "stdout",
          "text": [
            "                   all        128        929      0.841      0.798      0.866      0.696\n"
          ]
        },
        {
          "output_type": "stream",
          "name": "stderr",
          "text": [
            "\n"
          ]
        },
        {
          "output_type": "stream",
          "name": "stdout",
          "text": [
            "\n",
            "      Epoch    GPU_mem   box_loss   cls_loss   dfl_loss  Instances       Size\n"
          ]
        },
        {
          "output_type": "stream",
          "name": "stderr",
          "text": [
            "      19/20      5.24G     0.9377     0.7166      1.048        139        640: 100%|██████████| 8/8 [00:02<00:00,  3.06it/s]\n",
            "                 Class     Images  Instances      Box(P          R      mAP50  mAP50-95): 100%|██████████| 4/4 [00:01<00:00,  3.33it/s]"
          ]
        },
        {
          "output_type": "stream",
          "name": "stdout",
          "text": [
            "                   all        128        929      0.847        0.8      0.867      0.698\n"
          ]
        },
        {
          "output_type": "stream",
          "name": "stderr",
          "text": [
            "\n"
          ]
        },
        {
          "output_type": "stream",
          "name": "stdout",
          "text": [
            "\n",
            "      Epoch    GPU_mem   box_loss   cls_loss   dfl_loss  Instances       Size\n"
          ]
        },
        {
          "output_type": "stream",
          "name": "stderr",
          "text": [
            "      20/20      5.24G     0.8804      0.664      1.034         91        640: 100%|██████████| 8/8 [00:02<00:00,  3.44it/s]\n",
            "                 Class     Images  Instances      Box(P          R      mAP50  mAP50-95): 100%|██████████| 4/4 [00:01<00:00,  3.39it/s]"
          ]
        },
        {
          "output_type": "stream",
          "name": "stdout",
          "text": [
            "                   all        128        929      0.853      0.797      0.868        0.7\n"
          ]
        },
        {
          "output_type": "stream",
          "name": "stderr",
          "text": [
            "\n"
          ]
        },
        {
          "output_type": "stream",
          "name": "stdout",
          "text": [
            "\n",
            "20 epochs completed in 0.026 hours.\n",
            "Optimizer stripped from runs/detect/yolov8s_baseline/weights/last.pt, 22.6MB\n",
            "Optimizer stripped from runs/detect/yolov8s_baseline/weights/best.pt, 22.6MB\n",
            "\n",
            "Validating runs/detect/yolov8s_baseline/weights/best.pt...\n",
            "Ultralytics 8.3.130 🚀 Python-3.11.12 torch-2.6.0+cu124 CUDA:0 (Tesla T4, 15095MiB)\n",
            "Model summary (fused): 72 layers, 11,156,544 parameters, 0 gradients, 28.6 GFLOPs\n"
          ]
        },
        {
          "output_type": "stream",
          "name": "stderr",
          "text": [
            "                 Class     Images  Instances      Box(P          R      mAP50  mAP50-95): 100%|██████████| 4/4 [00:03<00:00,  1.27it/s]\n"
          ]
        },
        {
          "output_type": "stream",
          "name": "stdout",
          "text": [
            "                   all        128        929      0.853      0.797      0.868      0.699\n",
            "                person         61        254      0.945      0.752      0.869      0.675\n",
            "               bicycle          3          6          1      0.528      0.727      0.459\n",
            "                   car         12         46        0.9      0.393      0.622        0.3\n",
            "            motorcycle          4          5      0.885          1      0.995      0.864\n",
            "              airplane          5          6      0.946          1      0.995      0.904\n",
            "                   bus          5          7          1      0.928      0.995      0.895\n",
            "                 train          3          3      0.933          1      0.995       0.94\n",
            "                 truck          5         12      0.872        0.5      0.595      0.435\n",
            "                  boat          2          6      0.928      0.667        0.8       0.52\n",
            "         traffic light          4         14      0.908      0.429      0.483      0.297\n",
            "             stop sign          2          2      0.762          1      0.995      0.946\n",
            "                 bench          5          9          1      0.818      0.937      0.706\n",
            "                  bird          2         16      0.959          1      0.995      0.769\n",
            "                   cat          4          4      0.902          1      0.995       0.93\n",
            "                   dog          9          9      0.896      0.889      0.975       0.82\n",
            "                 horse          1          2      0.818          1      0.995      0.797\n",
            "              elephant          4         17      0.959      0.941      0.951      0.853\n",
            "                  bear          1          1      0.711          1      0.995      0.895\n",
            "                 zebra          2          4      0.893          1      0.995      0.995\n",
            "               giraffe          4          9          1      0.937      0.995      0.822\n",
            "              backpack          4          6      0.807      0.667      0.808      0.587\n",
            "              umbrella          4         18      0.892      0.918      0.979      0.716\n",
            "               handbag          9         19      0.847      0.474      0.525      0.382\n",
            "                   tie          6          7      0.942      0.857      0.858      0.694\n",
            "              suitcase          2          4      0.922          1      0.995      0.722\n",
            "               frisbee          5          5       0.75        0.8      0.807      0.701\n",
            "                  skis          1          1      0.923          1      0.995      0.895\n",
            "             snowboard          2          7        0.8      0.857      0.944      0.717\n",
            "           sports ball          6          6          1      0.657       0.67       0.42\n",
            "                  kite          2         10      0.888        0.4      0.554      0.277\n",
            "          baseball bat          4          4      0.706       0.75      0.912      0.546\n",
            "        baseball glove          4          7      0.914      0.429      0.438      0.261\n",
            "            skateboard          3          5      0.713        0.8      0.866      0.542\n",
            "         tennis racket          5          7      0.848      0.714      0.718      0.581\n",
            "                bottle          6         18      0.836      0.565      0.803      0.576\n",
            "            wine glass          5         16      0.917       0.69      0.881      0.596\n",
            "                   cup         10         36      0.743      0.883      0.874      0.624\n",
            "                  fork          6          6          1      0.589      0.738      0.602\n",
            "                 knife          7         16      0.873       0.75      0.875      0.631\n",
            "                 spoon          5         22      0.766      0.594      0.674      0.529\n",
            "                  bowl          9         28      0.915      0.857      0.861      0.758\n",
            "                banana          1          1       0.69          1      0.995      0.995\n",
            "              sandwich          2          2      0.817          1      0.995      0.995\n",
            "                orange          1          4      0.616          1      0.995      0.722\n",
            "              broccoli          4         11      0.688      0.182      0.733      0.526\n",
            "                carrot          3         24      0.953      0.845      0.908      0.672\n",
            "               hot dog          1          2      0.816          1      0.995      0.995\n",
            "                 pizza          5          5      0.924          1      0.995      0.946\n",
            "                 donut          2         14        0.8          1      0.986      0.902\n",
            "                  cake          4          4      0.897          1      0.995      0.905\n",
            "                 chair          9         35      0.716      0.657      0.818       0.55\n",
            "                 couch          5          6          1      0.928      0.995      0.797\n",
            "          potted plant          9         14      0.812      0.923      0.917      0.753\n",
            "                   bed          3          3      0.878          1      0.995      0.864\n",
            "          dining table         10         13      0.912      0.794      0.875      0.767\n",
            "                toilet          2          2      0.807          1      0.995      0.995\n",
            "                    tv          2          2      0.802          1      0.995      0.946\n",
            "                laptop          2          3      0.727          1      0.995      0.913\n",
            "                 mouse          2          2      0.711        0.5      0.537      0.356\n",
            "                remote          5          8      0.853        0.5      0.622       0.56\n",
            "            cell phone          5          8      0.665      0.625      0.607      0.435\n",
            "             microwave          3          3      0.897          1      0.995      0.963\n",
            "                  oven          5          5      0.634        0.6      0.578       0.44\n",
            "                  sink          4          6      0.804      0.685      0.844       0.63\n",
            "          refrigerator          5          5      0.799          1      0.995      0.813\n",
            "                  book          6         29      0.714      0.603      0.737      0.453\n",
            "                 clock          8          9      0.932      0.889      0.984      0.869\n",
            "                  vase          2          2      0.838          1      0.995      0.995\n",
            "              scissors          1          1          1          0      0.995      0.224\n",
            "            teddy bear          6         21      0.905      0.857       0.93      0.718\n",
            "            toothbrush          2          5      0.748          1      0.928      0.783\n",
            "Speed: 0.3ms preprocess, 6.1ms inference, 0.0ms loss, 3.6ms postprocess per image\n",
            "Results saved to \u001b[1mruns/detect/yolov8s_baseline\u001b[0m\n",
            "\n",
            "Training YOLOv8m baseline...\n",
            "Downloading https://github.com/ultralytics/assets/releases/download/v8.3.0/yolov8m.pt to 'yolov8m.pt'...\n"
          ]
        },
        {
          "output_type": "stream",
          "name": "stderr",
          "text": [
            "100%|██████████| 49.7M/49.7M [00:00<00:00, 566MB/s]\n"
          ]
        },
        {
          "output_type": "stream",
          "name": "stdout",
          "text": [
            "Ultralytics 8.3.130 🚀 Python-3.11.12 torch-2.6.0+cu124 CUDA:0 (Tesla T4, 15095MiB)\n",
            "\u001b[34m\u001b[1mengine/trainer: \u001b[0magnostic_nms=False, amp=True, augment=False, auto_augment=randaugment, batch=16, bgr=0.0, box=7.5, cache=False, cfg=None, classes=None, close_mosaic=10, cls=0.5, conf=None, copy_paste=0.0, copy_paste_mode=flip, cos_lr=False, cutmix=0.0, data=coco128.yaml, degrees=0.0, deterministic=True, device=None, dfl=1.5, dnn=False, dropout=0.0, dynamic=False, embed=None, epochs=20, erasing=0.4, exist_ok=False, fliplr=0.5, flipud=0.0, format=torchscript, fraction=1.0, freeze=None, half=False, hsv_h=0.015, hsv_s=0.7, hsv_v=0.4, imgsz=640, int8=False, iou=0.7, keras=False, kobj=1.0, line_width=None, lr0=0.01, lrf=0.01, mask_ratio=4, max_det=300, mixup=0.0, mode=train, model=yolov8m.pt, momentum=0.937, mosaic=1.0, multi_scale=False, name=yolov8m_baseline, nbs=64, nms=False, opset=None, optimize=False, optimizer=auto, overlap_mask=True, patience=100, perspective=0.0, plots=True, pose=12.0, pretrained=True, profile=False, project=None, rect=False, resume=False, retina_masks=False, save=True, save_conf=False, save_crop=False, save_dir=runs/detect/yolov8m_baseline, save_frames=False, save_json=False, save_period=-1, save_txt=False, scale=0.5, seed=0, shear=0.0, show=False, show_boxes=True, show_conf=True, show_labels=True, simplify=True, single_cls=False, source=None, split=val, stream_buffer=False, task=detect, time=None, tracker=botsort.yaml, translate=0.1, val=True, verbose=True, vid_stride=1, visualize=False, warmup_bias_lr=0.1, warmup_epochs=3.0, warmup_momentum=0.8, weight_decay=0.0005, workers=8, workspace=None\n",
            "\n",
            "                   from  n    params  module                                       arguments                     \n",
            "  0                  -1  1      1392  ultralytics.nn.modules.conv.Conv             [3, 48, 3, 2]                 \n",
            "  1                  -1  1     41664  ultralytics.nn.modules.conv.Conv             [48, 96, 3, 2]                \n",
            "  2                  -1  2    111360  ultralytics.nn.modules.block.C2f             [96, 96, 2, True]             \n",
            "  3                  -1  1    166272  ultralytics.nn.modules.conv.Conv             [96, 192, 3, 2]               \n",
            "  4                  -1  4    813312  ultralytics.nn.modules.block.C2f             [192, 192, 4, True]           \n",
            "  5                  -1  1    664320  ultralytics.nn.modules.conv.Conv             [192, 384, 3, 2]              \n",
            "  6                  -1  4   3248640  ultralytics.nn.modules.block.C2f             [384, 384, 4, True]           \n",
            "  7                  -1  1   1991808  ultralytics.nn.modules.conv.Conv             [384, 576, 3, 2]              \n",
            "  8                  -1  2   3985920  ultralytics.nn.modules.block.C2f             [576, 576, 2, True]           \n",
            "  9                  -1  1    831168  ultralytics.nn.modules.block.SPPF            [576, 576, 5]                 \n",
            " 10                  -1  1         0  torch.nn.modules.upsampling.Upsample         [None, 2, 'nearest']          \n",
            " 11             [-1, 6]  1         0  ultralytics.nn.modules.conv.Concat           [1]                           \n",
            " 12                  -1  2   1993728  ultralytics.nn.modules.block.C2f             [960, 384, 2]                 \n",
            " 13                  -1  1         0  torch.nn.modules.upsampling.Upsample         [None, 2, 'nearest']          \n",
            " 14             [-1, 4]  1         0  ultralytics.nn.modules.conv.Concat           [1]                           \n",
            " 15                  -1  2    517632  ultralytics.nn.modules.block.C2f             [576, 192, 2]                 \n",
            " 16                  -1  1    332160  ultralytics.nn.modules.conv.Conv             [192, 192, 3, 2]              \n",
            " 17            [-1, 12]  1         0  ultralytics.nn.modules.conv.Concat           [1]                           \n",
            " 18                  -1  2   1846272  ultralytics.nn.modules.block.C2f             [576, 384, 2]                 \n",
            " 19                  -1  1   1327872  ultralytics.nn.modules.conv.Conv             [384, 384, 3, 2]              \n",
            " 20             [-1, 9]  1         0  ultralytics.nn.modules.conv.Concat           [1]                           \n",
            " 21                  -1  2   4207104  ultralytics.nn.modules.block.C2f             [960, 576, 2]                 \n",
            " 22        [15, 18, 21]  1   3822016  ultralytics.nn.modules.head.Detect           [80, [192, 384, 576]]         \n",
            "Model summary: 169 layers, 25,902,640 parameters, 25,902,624 gradients, 79.3 GFLOPs\n",
            "\n",
            "Transferred 475/475 items from pretrained weights\n",
            "Freezing layer 'model.22.dfl.conv.weight'\n",
            "\u001b[34m\u001b[1mAMP: \u001b[0mrunning Automatic Mixed Precision (AMP) checks...\n",
            "\u001b[34m\u001b[1mAMP: \u001b[0mchecks passed ✅\n",
            "\u001b[34m\u001b[1mtrain: \u001b[0mFast image access ✅ (ping: 0.0±0.0 ms, read: 1068.0±166.3 MB/s, size: 50.9 KB)\n"
          ]
        },
        {
          "output_type": "stream",
          "name": "stderr",
          "text": [
            "\u001b[34m\u001b[1mtrain: \u001b[0mScanning /content/datasets/coco128/labels/train2017.cache... 126 images, 2 backgrounds, 0 corrupt: 100%|██████████| 128/128 [00:00<?, ?it/s]"
          ]
        },
        {
          "output_type": "stream",
          "name": "stdout",
          "text": [
            "\u001b[34m\u001b[1malbumentations: \u001b[0mBlur(p=0.01, blur_limit=(3, 7)), MedianBlur(p=0.01, blur_limit=(3, 7)), ToGray(p=0.01, method='weighted_average', num_output_channels=3), CLAHE(p=0.01, clip_limit=(1.0, 4.0), tile_grid_size=(8, 8))\n"
          ]
        },
        {
          "output_type": "stream",
          "name": "stderr",
          "text": [
            "\n"
          ]
        },
        {
          "output_type": "stream",
          "name": "stdout",
          "text": [
            "\u001b[34m\u001b[1mval: \u001b[0mFast image access ✅ (ping: 0.0±0.0 ms, read: 367.0±100.0 MB/s, size: 52.5 KB)\n"
          ]
        },
        {
          "output_type": "stream",
          "name": "stderr",
          "text": [
            "\u001b[34m\u001b[1mval: \u001b[0mScanning /content/datasets/coco128/labels/train2017.cache... 126 images, 2 backgrounds, 0 corrupt: 100%|██████████| 128/128 [00:00<?, ?it/s]\n"
          ]
        },
        {
          "output_type": "stream",
          "name": "stdout",
          "text": [
            "Plotting labels to runs/detect/yolov8m_baseline/labels.jpg... \n",
            "\u001b[34m\u001b[1moptimizer:\u001b[0m 'optimizer=auto' found, ignoring 'lr0=0.01' and 'momentum=0.937' and determining best 'optimizer', 'lr0' and 'momentum' automatically... \n",
            "\u001b[34m\u001b[1moptimizer:\u001b[0m AdamW(lr=0.000119, momentum=0.9) with parameter groups 77 weight(decay=0.0), 84 weight(decay=0.0005), 83 bias(decay=0.0)\n",
            "Image sizes 640 train, 640 val\n",
            "Using 2 dataloader workers\n",
            "Logging results to \u001b[1mruns/detect/yolov8m_baseline\u001b[0m\n",
            "Starting training for 20 epochs...\n",
            "\n",
            "      Epoch    GPU_mem   box_loss   cls_loss   dfl_loss  Instances       Size\n"
          ]
        },
        {
          "output_type": "stream",
          "name": "stderr",
          "text": [
            "       1/20      6.84G     0.9441     0.9748      1.158        172        640: 100%|██████████| 8/8 [00:04<00:00,  1.60it/s]\n",
            "                 Class     Images  Instances      Box(P          R      mAP50  mAP50-95): 100%|██████████| 4/4 [00:01<00:00,  2.28it/s]"
          ]
        },
        {
          "output_type": "stream",
          "name": "stdout",
          "text": [
            "                   all        128        929      0.749      0.711      0.786      0.618\n"
          ]
        },
        {
          "output_type": "stream",
          "name": "stderr",
          "text": [
            "\n"
          ]
        },
        {
          "output_type": "stream",
          "name": "stdout",
          "text": [
            "\n",
            "      Epoch    GPU_mem   box_loss   cls_loss   dfl_loss  Instances       Size\n"
          ]
        },
        {
          "output_type": "stream",
          "name": "stderr",
          "text": [
            "       2/20      7.09G      1.005      0.945      1.165        231        640: 100%|██████████| 8/8 [00:04<00:00,  1.64it/s]\n",
            "                 Class     Images  Instances      Box(P          R      mAP50  mAP50-95): 100%|██████████| 4/4 [00:01<00:00,  2.20it/s]"
          ]
        },
        {
          "output_type": "stream",
          "name": "stdout",
          "text": [
            "                   all        128        929      0.789      0.734      0.811      0.642\n"
          ]
        },
        {
          "output_type": "stream",
          "name": "stderr",
          "text": [
            "\n"
          ]
        },
        {
          "output_type": "stream",
          "name": "stdout",
          "text": [
            "\n",
            "      Epoch    GPU_mem   box_loss   cls_loss   dfl_loss  Instances       Size\n"
          ]
        },
        {
          "output_type": "stream",
          "name": "stderr",
          "text": [
            "       3/20      7.04G     0.9427     0.8555       1.17        192        640: 100%|██████████| 8/8 [00:04<00:00,  1.66it/s]\n",
            "                 Class     Images  Instances      Box(P          R      mAP50  mAP50-95): 100%|██████████| 4/4 [00:01<00:00,  2.31it/s]"
          ]
        },
        {
          "output_type": "stream",
          "name": "stdout",
          "text": [
            "                   all        128        929      0.781      0.757      0.829       0.66\n"
          ]
        },
        {
          "output_type": "stream",
          "name": "stderr",
          "text": [
            "\n"
          ]
        },
        {
          "output_type": "stream",
          "name": "stdout",
          "text": [
            "\n",
            "      Epoch    GPU_mem   box_loss   cls_loss   dfl_loss  Instances       Size\n"
          ]
        },
        {
          "output_type": "stream",
          "name": "stderr",
          "text": [
            "       4/20      7.15G     0.9466     0.8274      1.139        215        640: 100%|██████████| 8/8 [00:04<00:00,  1.72it/s]\n",
            "                 Class     Images  Instances      Box(P          R      mAP50  mAP50-95): 100%|██████████| 4/4 [00:01<00:00,  2.30it/s]"
          ]
        },
        {
          "output_type": "stream",
          "name": "stdout",
          "text": [
            "                   all        128        929      0.798      0.759      0.841      0.672\n"
          ]
        },
        {
          "output_type": "stream",
          "name": "stderr",
          "text": [
            "\n"
          ]
        },
        {
          "output_type": "stream",
          "name": "stdout",
          "text": [
            "\n",
            "      Epoch    GPU_mem   box_loss   cls_loss   dfl_loss  Instances       Size\n"
          ]
        },
        {
          "output_type": "stream",
          "name": "stderr",
          "text": [
            "       5/20      7.15G     0.9483     0.7737      1.142        236        640: 100%|██████████| 8/8 [00:04<00:00,  1.64it/s]\n",
            "                 Class     Images  Instances      Box(P          R      mAP50  mAP50-95): 100%|██████████| 4/4 [00:01<00:00,  2.24it/s]"
          ]
        },
        {
          "output_type": "stream",
          "name": "stdout",
          "text": [
            "                   all        128        929      0.849      0.761      0.855      0.688\n"
          ]
        },
        {
          "output_type": "stream",
          "name": "stderr",
          "text": [
            "\n"
          ]
        },
        {
          "output_type": "stream",
          "name": "stdout",
          "text": [
            "\n",
            "      Epoch    GPU_mem   box_loss   cls_loss   dfl_loss  Instances       Size\n"
          ]
        },
        {
          "output_type": "stream",
          "name": "stderr",
          "text": [
            "       6/20      7.11G     0.9342      0.793      1.123        253        640: 100%|██████████| 8/8 [00:04<00:00,  1.70it/s]\n",
            "                 Class     Images  Instances      Box(P          R      mAP50  mAP50-95): 100%|██████████| 4/4 [00:01<00:00,  2.27it/s]"
          ]
        },
        {
          "output_type": "stream",
          "name": "stdout",
          "text": [
            "                   all        128        929      0.878      0.761      0.874      0.699\n"
          ]
        },
        {
          "output_type": "stream",
          "name": "stderr",
          "text": [
            "\n"
          ]
        },
        {
          "output_type": "stream",
          "name": "stdout",
          "text": [
            "\n",
            "      Epoch    GPU_mem   box_loss   cls_loss   dfl_loss  Instances       Size\n"
          ]
        },
        {
          "output_type": "stream",
          "name": "stderr",
          "text": [
            "       7/20      7.17G     0.8502     0.7411      1.089        282        640: 100%|██████████| 8/8 [00:04<00:00,  1.72it/s]\n",
            "                 Class     Images  Instances      Box(P          R      mAP50  mAP50-95): 100%|██████████| 4/4 [00:02<00:00,  1.85it/s]"
          ]
        },
        {
          "output_type": "stream",
          "name": "stdout",
          "text": [
            "                   all        128        929      0.824      0.811       0.88      0.704\n"
          ]
        },
        {
          "output_type": "stream",
          "name": "stderr",
          "text": [
            "\n"
          ]
        },
        {
          "output_type": "stream",
          "name": "stdout",
          "text": [
            "\n",
            "      Epoch    GPU_mem   box_loss   cls_loss   dfl_loss  Instances       Size\n"
          ]
        },
        {
          "output_type": "stream",
          "name": "stderr",
          "text": [
            "       8/20      7.13G     0.8677      0.695      1.092        192        640: 100%|██████████| 8/8 [00:04<00:00,  1.70it/s]\n",
            "                 Class     Images  Instances      Box(P          R      mAP50  mAP50-95): 100%|██████████| 4/4 [00:01<00:00,  2.24it/s]"
          ]
        },
        {
          "output_type": "stream",
          "name": "stdout",
          "text": [
            "                   all        128        929      0.901      0.788      0.883      0.714\n"
          ]
        },
        {
          "output_type": "stream",
          "name": "stderr",
          "text": [
            "\n"
          ]
        },
        {
          "output_type": "stream",
          "name": "stdout",
          "text": [
            "\n",
            "      Epoch    GPU_mem   box_loss   cls_loss   dfl_loss  Instances       Size\n"
          ]
        },
        {
          "output_type": "stream",
          "name": "stderr",
          "text": [
            "       9/20      7.09G     0.8483     0.6503      1.073        180        640: 100%|██████████| 8/8 [00:04<00:00,  1.69it/s]\n",
            "                 Class     Images  Instances      Box(P          R      mAP50  mAP50-95): 100%|██████████| 4/4 [00:02<00:00,  1.90it/s]"
          ]
        },
        {
          "output_type": "stream",
          "name": "stdout",
          "text": [
            "                   all        128        929      0.876      0.833       0.89      0.725\n"
          ]
        },
        {
          "output_type": "stream",
          "name": "stderr",
          "text": [
            "\n"
          ]
        },
        {
          "output_type": "stream",
          "name": "stdout",
          "text": [
            "\n",
            "      Epoch    GPU_mem   box_loss   cls_loss   dfl_loss  Instances       Size\n"
          ]
        },
        {
          "output_type": "stream",
          "name": "stderr",
          "text": [
            "      10/20      7.07G     0.8286     0.6535      1.048        180        640: 100%|██████████| 8/8 [00:04<00:00,  1.68it/s]\n",
            "                 Class     Images  Instances      Box(P          R      mAP50  mAP50-95): 100%|██████████| 4/4 [00:01<00:00,  2.16it/s]"
          ]
        },
        {
          "output_type": "stream",
          "name": "stdout",
          "text": [
            "                   all        128        929      0.901      0.826      0.894      0.734\n"
          ]
        },
        {
          "output_type": "stream",
          "name": "stderr",
          "text": [
            "\n"
          ]
        },
        {
          "output_type": "stream",
          "name": "stdout",
          "text": [
            "Closing dataloader mosaic\n",
            "\u001b[34m\u001b[1malbumentations: \u001b[0mBlur(p=0.01, blur_limit=(3, 7)), MedianBlur(p=0.01, blur_limit=(3, 7)), ToGray(p=0.01, method='weighted_average', num_output_channels=3), CLAHE(p=0.01, clip_limit=(1.0, 4.0), tile_grid_size=(8, 8))\n",
            "\n",
            "      Epoch    GPU_mem   box_loss   cls_loss   dfl_loss  Instances       Size\n"
          ]
        },
        {
          "output_type": "stream",
          "name": "stderr",
          "text": [
            "      11/20      7.11G     0.8377     0.6209      1.034        169        640: 100%|██████████| 8/8 [00:05<00:00,  1.33it/s]\n",
            "                 Class     Images  Instances      Box(P          R      mAP50  mAP50-95): 100%|██████████| 4/4 [00:02<00:00,  1.92it/s]"
          ]
        },
        {
          "output_type": "stream",
          "name": "stdout",
          "text": [
            "                   all        128        929       0.91      0.821      0.897      0.737\n"
          ]
        },
        {
          "output_type": "stream",
          "name": "stderr",
          "text": [
            "\n"
          ]
        },
        {
          "output_type": "stream",
          "name": "stdout",
          "text": [
            "\n",
            "      Epoch    GPU_mem   box_loss   cls_loss   dfl_loss  Instances       Size\n"
          ]
        },
        {
          "output_type": "stream",
          "name": "stderr",
          "text": [
            "      12/20      7.06G     0.7852       0.57      1.005         95        640: 100%|██████████| 8/8 [00:04<00:00,  1.69it/s]\n",
            "                 Class     Images  Instances      Box(P          R      mAP50  mAP50-95): 100%|██████████| 4/4 [00:01<00:00,  2.22it/s]"
          ]
        },
        {
          "output_type": "stream",
          "name": "stdout",
          "text": [
            "                   all        128        929      0.908      0.824      0.898      0.738\n"
          ]
        },
        {
          "output_type": "stream",
          "name": "stderr",
          "text": [
            "\n"
          ]
        },
        {
          "output_type": "stream",
          "name": "stdout",
          "text": [
            "\n",
            "      Epoch    GPU_mem   box_loss   cls_loss   dfl_loss  Instances       Size\n"
          ]
        },
        {
          "output_type": "stream",
          "name": "stderr",
          "text": [
            "      13/20      7.09G     0.7747      0.565     0.9937        129        640: 100%|██████████| 8/8 [00:04<00:00,  1.68it/s]\n",
            "                 Class     Images  Instances      Box(P          R      mAP50  mAP50-95): 100%|██████████| 4/4 [00:01<00:00,  2.23it/s]"
          ]
        },
        {
          "output_type": "stream",
          "name": "stdout",
          "text": [
            "                   all        128        929      0.882      0.841      0.903      0.741\n"
          ]
        },
        {
          "output_type": "stream",
          "name": "stderr",
          "text": [
            "\n"
          ]
        },
        {
          "output_type": "stream",
          "name": "stdout",
          "text": [
            "\n",
            "      Epoch    GPU_mem   box_loss   cls_loss   dfl_loss  Instances       Size\n"
          ]
        },
        {
          "output_type": "stream",
          "name": "stderr",
          "text": [
            "      14/20      7.03G      0.776     0.5496     0.9969         77        640: 100%|██████████| 8/8 [00:04<00:00,  1.73it/s]\n",
            "                 Class     Images  Instances      Box(P          R      mAP50  mAP50-95): 100%|██████████| 4/4 [00:01<00:00,  2.23it/s]"
          ]
        },
        {
          "output_type": "stream",
          "name": "stdout",
          "text": [
            "                   all        128        929      0.908      0.843      0.905      0.746\n"
          ]
        },
        {
          "output_type": "stream",
          "name": "stderr",
          "text": [
            "\n"
          ]
        },
        {
          "output_type": "stream",
          "name": "stdout",
          "text": [
            "\n",
            "      Epoch    GPU_mem   box_loss   cls_loss   dfl_loss  Instances       Size\n"
          ]
        },
        {
          "output_type": "stream",
          "name": "stderr",
          "text": [
            "      15/20      7.03G     0.7545     0.5359     0.9838        125        640: 100%|██████████| 8/8 [00:04<00:00,  1.72it/s]\n",
            "                 Class     Images  Instances      Box(P          R      mAP50  mAP50-95): 100%|██████████| 4/4 [00:01<00:00,  2.11it/s]"
          ]
        },
        {
          "output_type": "stream",
          "name": "stdout",
          "text": [
            "                   all        128        929      0.912      0.846      0.907      0.747\n"
          ]
        },
        {
          "output_type": "stream",
          "name": "stderr",
          "text": [
            "\n"
          ]
        },
        {
          "output_type": "stream",
          "name": "stdout",
          "text": [
            "\n",
            "      Epoch    GPU_mem   box_loss   cls_loss   dfl_loss  Instances       Size\n"
          ]
        },
        {
          "output_type": "stream",
          "name": "stderr",
          "text": [
            "      16/20      7.06G     0.7498     0.5158     0.9872        105        640: 100%|██████████| 8/8 [00:04<00:00,  1.67it/s]\n",
            "                 Class     Images  Instances      Box(P          R      mAP50  mAP50-95): 100%|██████████| 4/4 [00:01<00:00,  2.14it/s]"
          ]
        },
        {
          "output_type": "stream",
          "name": "stdout",
          "text": [
            "                   all        128        929      0.912       0.85      0.911      0.751\n"
          ]
        },
        {
          "output_type": "stream",
          "name": "stderr",
          "text": [
            "\n"
          ]
        },
        {
          "output_type": "stream",
          "name": "stdout",
          "text": [
            "\n",
            "      Epoch    GPU_mem   box_loss   cls_loss   dfl_loss  Instances       Size\n"
          ]
        },
        {
          "output_type": "stream",
          "name": "stderr",
          "text": [
            "      17/20      7.02G     0.7271     0.4906     0.9831        103        640: 100%|██████████| 8/8 [00:04<00:00,  1.66it/s]\n",
            "                 Class     Images  Instances      Box(P          R      mAP50  mAP50-95): 100%|██████████| 4/4 [00:01<00:00,  2.23it/s]"
          ]
        },
        {
          "output_type": "stream",
          "name": "stdout",
          "text": [
            "                   all        128        929      0.926      0.844      0.911      0.751\n"
          ]
        },
        {
          "output_type": "stream",
          "name": "stderr",
          "text": [
            "\n"
          ]
        },
        {
          "output_type": "stream",
          "name": "stdout",
          "text": [
            "\n",
            "      Epoch    GPU_mem   box_loss   cls_loss   dfl_loss  Instances       Size\n"
          ]
        },
        {
          "output_type": "stream",
          "name": "stderr",
          "text": [
            "      18/20         7G     0.7321     0.5029     0.9812        109        640: 100%|██████████| 8/8 [00:04<00:00,  1.74it/s]\n",
            "                 Class     Images  Instances      Box(P          R      mAP50  mAP50-95): 100%|██████████| 4/4 [00:01<00:00,  2.26it/s]"
          ]
        },
        {
          "output_type": "stream",
          "name": "stdout",
          "text": [
            "                   all        128        929       0.93      0.846      0.916      0.754\n"
          ]
        },
        {
          "output_type": "stream",
          "name": "stderr",
          "text": [
            "\n"
          ]
        },
        {
          "output_type": "stream",
          "name": "stdout",
          "text": [
            "\n",
            "      Epoch    GPU_mem   box_loss   cls_loss   dfl_loss  Instances       Size\n"
          ]
        },
        {
          "output_type": "stream",
          "name": "stderr",
          "text": [
            "      19/20      7.02G     0.7665     0.5326     0.9932        139        640: 100%|██████████| 8/8 [00:04<00:00,  1.73it/s]\n",
            "                 Class     Images  Instances      Box(P          R      mAP50  mAP50-95): 100%|██████████| 4/4 [00:01<00:00,  2.13it/s]"
          ]
        },
        {
          "output_type": "stream",
          "name": "stdout",
          "text": [
            "                   all        128        929      0.929      0.848      0.916      0.757\n"
          ]
        },
        {
          "output_type": "stream",
          "name": "stderr",
          "text": [
            "\n"
          ]
        },
        {
          "output_type": "stream",
          "name": "stdout",
          "text": [
            "\n",
            "      Epoch    GPU_mem   box_loss   cls_loss   dfl_loss  Instances       Size\n"
          ]
        },
        {
          "output_type": "stream",
          "name": "stderr",
          "text": [
            "      20/20      7.03G     0.7201     0.4798     0.9732         91        640: 100%|██████████| 8/8 [00:04<00:00,  1.69it/s]\n",
            "                 Class     Images  Instances      Box(P          R      mAP50  mAP50-95): 100%|██████████| 4/4 [00:01<00:00,  2.21it/s]"
          ]
        },
        {
          "output_type": "stream",
          "name": "stdout",
          "text": [
            "                   all        128        929       0.93      0.847      0.916      0.757\n"
          ]
        },
        {
          "output_type": "stream",
          "name": "stderr",
          "text": [
            "\n"
          ]
        },
        {
          "output_type": "stream",
          "name": "stdout",
          "text": [
            "\n",
            "20 epochs completed in 0.142 hours.\n",
            "Optimizer stripped from runs/detect/yolov8m_baseline/weights/last.pt, 52.1MB\n",
            "Optimizer stripped from runs/detect/yolov8m_baseline/weights/best.pt, 52.1MB\n",
            "\n",
            "Validating runs/detect/yolov8m_baseline/weights/best.pt...\n",
            "Ultralytics 8.3.130 🚀 Python-3.11.12 torch-2.6.0+cu124 CUDA:0 (Tesla T4, 15095MiB)\n",
            "Model summary (fused): 92 layers, 25,886,080 parameters, 0 gradients, 78.9 GFLOPs\n"
          ]
        },
        {
          "output_type": "stream",
          "name": "stderr",
          "text": [
            "                 Class     Images  Instances      Box(P          R      mAP50  mAP50-95): 100%|██████████| 4/4 [00:03<00:00,  1.26it/s]\n"
          ]
        },
        {
          "output_type": "stream",
          "name": "stdout",
          "text": [
            "                   all        128        929      0.929      0.848      0.916      0.756\n",
            "                person         61        254      0.993      0.772      0.921      0.739\n",
            "               bicycle          3          6          1      0.603      0.812      0.639\n",
            "                   car         12         46      0.947      0.413      0.657      0.371\n",
            "            motorcycle          4          5      0.925          1      0.995      0.901\n",
            "              airplane          5          6      0.946          1      0.995      0.935\n",
            "                   bus          5          7      0.994          1      0.995      0.925\n",
            "                 train          3          3      0.891          1      0.995      0.995\n",
            "                 truck          5         12      0.858        0.5       0.77      0.587\n",
            "                  boat          2          6          1      0.613      0.813      0.636\n",
            "         traffic light          4         14          1      0.439      0.586      0.363\n",
            "             stop sign          2          2      0.867          1      0.995      0.895\n",
            "                 bench          5          9          1      0.876      0.995      0.862\n",
            "                  bird          2         16      0.993          1      0.995      0.753\n",
            "                   cat          4          4      0.918          1      0.995      0.878\n",
            "                   dog          9          9       0.96          1      0.995      0.928\n",
            "                 horse          1          2      0.887          1      0.995      0.805\n",
            "              elephant          4         17      0.995      0.941      0.972      0.844\n",
            "                  bear          1          1      0.791          1      0.995      0.895\n",
            "                 zebra          2          4      0.919          1      0.995      0.974\n",
            "               giraffe          4          9      0.969          1      0.995      0.922\n",
            "              backpack          4          6      0.799      0.833      0.846      0.653\n",
            "              umbrella          4         18          1      0.989      0.995      0.836\n",
            "               handbag          9         19       0.97      0.632      0.745      0.556\n",
            "                   tie          6          7      0.975      0.857      0.861      0.758\n",
            "              suitcase          2          4      0.918          1      0.995      0.798\n",
            "               frisbee          5          5      0.899        0.8      0.806      0.757\n",
            "                  skis          1          1      0.824          1      0.995      0.796\n",
            "             snowboard          2          7       0.81      0.857      0.869      0.738\n",
            "           sports ball          6          6          1      0.666      0.793      0.459\n",
            "                  kite          2         10          1      0.453      0.679      0.247\n",
            "          baseball bat          4          4          1       0.85      0.995      0.638\n",
            "        baseball glove          4          7      0.914      0.429      0.445      0.314\n",
            "            skateboard          3          5      0.977          1      0.995      0.697\n",
            "         tennis racket          5          7      0.951      0.714      0.726      0.543\n",
            "                bottle          6         18          1      0.727      0.963      0.693\n",
            "            wine glass          5         16      0.893      0.521      0.899       0.63\n",
            "                   cup         10         36      0.938      0.917      0.942       0.67\n",
            "                  fork          6          6      0.928      0.667      0.948      0.701\n",
            "                 knife          7         16       0.94      0.625      0.882      0.613\n",
            "                 spoon          5         22          1      0.717      0.832      0.627\n",
            "                  bowl          9         28      0.995      0.857      0.907      0.778\n",
            "                banana          1          1      0.795          1      0.995      0.995\n",
            "              sandwich          2          2      0.818          1      0.995      0.995\n",
            "                orange          1          4      0.926          1      0.995      0.843\n",
            "              broccoli          4         11      0.996      0.455      0.649      0.494\n",
            "                carrot          3         24      0.952      0.826      0.925      0.731\n",
            "               hot dog          1          2      0.855          1      0.995      0.995\n",
            "                 pizza          5          5      0.952          1      0.995      0.958\n",
            "                 donut          2         14      0.908          1      0.995      0.936\n",
            "                  cake          4          4      0.918          1      0.995      0.942\n",
            "                 chair          9         35      0.959      0.666      0.942      0.709\n",
            "                 couch          5          6      0.955          1      0.995      0.858\n",
            "          potted plant          9         14      0.908      0.929      0.976       0.79\n",
            "                   bed          3          3      0.911          1      0.995      0.909\n",
            "          dining table         10         13      0.991      0.923      0.927      0.855\n",
            "                toilet          2          2      0.865          1      0.995      0.995\n",
            "                    tv          2          2      0.866          1      0.995      0.946\n",
            "                laptop          2          3      0.893          1      0.995       0.93\n",
            "                 mouse          2          2          1      0.794      0.995       0.65\n",
            "                remote          5          8          1      0.678      0.881      0.702\n",
            "            cell phone          5          8      0.777      0.625      0.727      0.524\n",
            "             microwave          3          3      0.882          1      0.995      0.964\n",
            "                  oven          5          5      0.848        0.8        0.8      0.661\n",
            "                  sink          4          6      0.967      0.833      0.895        0.7\n",
            "          refrigerator          5          5      0.927          1      0.995      0.866\n",
            "                  book          6         29      0.905      0.659       0.84      0.543\n",
            "                 clock          8          9          1      0.945      0.995      0.902\n",
            "                  vase          2          2      0.877          1      0.995      0.995\n",
            "              scissors          1          1      0.793          1      0.995      0.298\n",
            "            teddy bear          6         21          1      0.815      0.979      0.771\n",
            "            toothbrush          2          5      0.915          1      0.995      0.876\n",
            "Speed: 0.3ms preprocess, 10.2ms inference, 0.0ms loss, 2.3ms postprocess per image\n",
            "Results saved to \u001b[1mruns/detect/yolov8m_baseline\u001b[0m\n"
          ]
        }
      ]
    },
    {
      "cell_type": "markdown",
      "source": [
        "Вычислим метрики для каждой эпохи каждой модели, и проведём сравнительный анализ"
      ],
      "metadata": {
        "id": "iKnVYr88ABN0"
      }
    },
    {
      "cell_type": "code",
      "source": [
        "def evaluate_model(model, model_name):\n",
        "    metrics = model.val(\n",
        "        data='coco128.yaml',\n",
        "        name=f'{model_name}_eval'\n",
        "    )\n",
        "    return metrics\n",
        "\n",
        "# Собираем метрики\n",
        "baseline_metrics = {}\n",
        "for size in ['n', 's', 'm']:\n",
        "    print(f\"\\nEvaluating YOLOv8{size}...\")\n",
        "    metrics = evaluate_model(models[size]['model'], f'yolov8{size}_baseline')\n",
        "\n",
        "    # Извлекаем метрики через правильные атрибуты\n",
        "    baseline_metrics[size] = {\n",
        "        'mAP50': metrics.box.map50,\n",
        "        'mAP50_95': metrics.box.map,\n",
        "        'precision': metrics.box.p[0],  # Precision для IoU=0.5\n",
        "        'recall': metrics.box.r[0],     # Recall для IoU=0.5\n",
        "        'f1': 2 * (metrics.box.p[0] * metrics.box.r[0]) / (metrics.box.p[0] + metrics.box.r[0] + 1e-16)\n",
        "    }"
      ],
      "metadata": {
        "colab": {
          "base_uri": "https://localhost:8080/"
        },
        "id": "0MEDTqsX8eKo",
        "outputId": "3c7e98eb-237f-42e7-c228-db3d25f5fb12"
      },
      "execution_count": 16,
      "outputs": [
        {
          "output_type": "stream",
          "name": "stdout",
          "text": [
            "\n",
            "Evaluating YOLOv8n...\n",
            "Ultralytics 8.3.130 🚀 Python-3.11.12 torch-2.6.0+cu124 CUDA:0 (Tesla T4, 15095MiB)\n",
            "\u001b[34m\u001b[1mval: \u001b[0mFast image access ✅ (ping: 0.0±0.0 ms, read: 1639.9±783.8 MB/s, size: 50.8 KB)\n"
          ]
        },
        {
          "output_type": "stream",
          "name": "stderr",
          "text": [
            "\u001b[34m\u001b[1mval: \u001b[0mScanning /content/datasets/coco128/labels/train2017.cache... 126 images, 2 backgrounds, 0 corrupt: 100%|██████████| 128/128 [00:00<?, ?it/s]\n",
            "                 Class     Images  Instances      Box(P          R      mAP50  mAP50-95): 100%|██████████| 8/8 [00:02<00:00,  2.78it/s]\n"
          ]
        },
        {
          "output_type": "stream",
          "name": "stdout",
          "text": [
            "                   all        128        929      0.754      0.687       0.76      0.584\n",
            "                person         61        254      0.889      0.664      0.791      0.588\n",
            "               bicycle          3          6      0.745      0.333      0.471       0.39\n",
            "                   car         12         46      0.686      0.239      0.372      0.219\n",
            "            motorcycle          4          5          1      0.983      0.995      0.876\n",
            "              airplane          5          6      0.805          1      0.972      0.858\n",
            "                   bus          5          7      0.834      0.714      0.723       0.69\n",
            "                 train          3          3      0.706          1      0.995      0.853\n",
            "                 truck          5         12      0.754        0.5      0.568      0.405\n",
            "                  boat          2          6      0.557      0.333      0.603      0.342\n",
            "         traffic light          4         14       0.52      0.143      0.185       0.14\n",
            "             stop sign          2          2      0.678          1      0.995      0.711\n",
            "                 bench          5          9      0.917      0.667      0.866      0.673\n",
            "                  bird          2         16      0.949      0.938      0.986      0.702\n",
            "                   cat          4          4      0.673          1      0.945      0.842\n",
            "                   dog          9          9      0.914      0.889      0.956      0.807\n",
            "                 horse          1          2      0.726          1      0.995      0.697\n",
            "              elephant          4         17      0.876      0.941      0.975      0.766\n",
            "                  bear          1          1      0.599          1      0.995      0.995\n",
            "                 zebra          2          4      0.872          1      0.995      0.974\n",
            "               giraffe          4          9      0.858          1      0.995      0.747\n",
            "              backpack          4          6      0.645      0.333      0.463      0.298\n",
            "              umbrella          4         18      0.636      0.667      0.732      0.507\n",
            "               handbag          9         19      0.606      0.163      0.329      0.193\n",
            "                   tie          6          7      0.744      0.857      0.796      0.606\n",
            "              suitcase          2          4      0.757          1      0.895      0.615\n",
            "               frisbee          5          5      0.735        0.8      0.799       0.69\n",
            "                  skis          1          1      0.872          1      0.995      0.497\n",
            "             snowboard          2          7      0.478      0.789      0.699      0.537\n",
            "           sports ball          6          6          1      0.308      0.636      0.403\n",
            "                  kite          2         10      0.551        0.3      0.482       0.23\n",
            "          baseball bat          4          4      0.646       0.25      0.436       0.26\n",
            "        baseball glove          4          7      0.938      0.429      0.434      0.291\n",
            "            skateboard          3          5      0.809        0.6      0.638      0.452\n",
            "         tennis racket          5          7      0.506      0.429      0.566       0.39\n",
            "                bottle          6         18      0.748      0.331      0.565      0.334\n",
            "            wine glass          5         16       0.66       0.75      0.818      0.439\n",
            "                   cup         10         36      0.852      0.417      0.613      0.445\n",
            "                  fork          6          6      0.617      0.167      0.416      0.337\n",
            "                 knife          7         16      0.789      0.625      0.668      0.434\n",
            "                 spoon          5         22      0.496      0.409      0.456      0.285\n",
            "                  bowl          9         28       0.79      0.786       0.82      0.695\n",
            "                banana          1          1      0.797          1      0.995      0.796\n",
            "              sandwich          2          2      0.784          1      0.995      0.995\n",
            "                orange          1          4      0.636          1      0.995      0.666\n",
            "              broccoli          4         11      0.527      0.364       0.45      0.329\n",
            "                carrot          3         24      0.816      0.833      0.863      0.556\n",
            "               hot dog          1          2      0.729          1      0.995      0.995\n",
            "                 pizza          5          5      0.876          1      0.995      0.946\n",
            "                 donut          2         14      0.583          1       0.96      0.876\n",
            "                  cake          4          4      0.861          1      0.995      0.921\n",
            "                 chair          9         35      0.597      0.571      0.609      0.373\n",
            "                 couch          5          6      0.786      0.833      0.867      0.704\n",
            "          potted plant          9         14      0.696      0.714      0.806       0.62\n",
            "                   bed          3          3      0.834          1      0.995      0.797\n",
            "          dining table         10         13      0.667      0.692      0.668      0.543\n",
            "                toilet          2          2      0.783          1      0.995      0.946\n",
            "                    tv          2          2      0.766          1      0.995      0.896\n",
            "                laptop          2          3          1      0.916      0.995      0.848\n",
            "                 mouse          2          2          1          0     0.0289     0.0202\n",
            "                remote          5          8          1      0.597      0.694       0.57\n",
            "            cell phone          5          8        0.3      0.125      0.208      0.146\n",
            "             microwave          3          3      0.688      0.667      0.913      0.791\n",
            "                  oven          5          5      0.852        0.6        0.6       0.44\n",
            "                  sink          4          6       0.45        0.5       0.55      0.371\n",
            "          refrigerator          5          5          1       0.95      0.995      0.813\n",
            "                  book          6         29      0.748      0.205      0.569      0.337\n",
            "                 clock          8          9      0.912      0.889      0.905      0.812\n",
            "                  vase          2          2      0.641      0.924      0.828      0.795\n",
            "              scissors          1          1          1          0      0.995     0.0995\n",
            "            teddy bear          6         21      0.821      0.654      0.844      0.589\n",
            "            toothbrush          2          5      0.926          1      0.995      0.659\n",
            "Speed: 2.0ms preprocess, 4.9ms inference, 0.0ms loss, 2.5ms postprocess per image\n",
            "Results saved to \u001b[1mruns/detect/yolov8n_baseline_eval6\u001b[0m\n",
            "\n",
            "Evaluating YOLOv8s...\n",
            "Ultralytics 8.3.130 🚀 Python-3.11.12 torch-2.6.0+cu124 CUDA:0 (Tesla T4, 15095MiB)\n",
            "Model summary (fused): 72 layers, 11,156,544 parameters, 0 gradients, 28.6 GFLOPs\n",
            "\u001b[34m\u001b[1mval: \u001b[0mFast image access ✅ (ping: 0.0±0.0 ms, read: 514.1±275.1 MB/s, size: 63.1 KB)\n"
          ]
        },
        {
          "output_type": "stream",
          "name": "stderr",
          "text": [
            "\u001b[34m\u001b[1mval: \u001b[0mScanning /content/datasets/coco128/labels/train2017.cache... 126 images, 2 backgrounds, 0 corrupt: 100%|██████████| 128/128 [00:00<?, ?it/s]\n",
            "                 Class     Images  Instances      Box(P          R      mAP50  mAP50-95): 100%|██████████| 8/8 [00:03<00:00,  2.54it/s]\n"
          ]
        },
        {
          "output_type": "stream",
          "name": "stdout",
          "text": [
            "                   all        128        929      0.873      0.785      0.866      0.699\n",
            "                person         61        254      0.963      0.722      0.869      0.678\n",
            "               bicycle          3          6          1       0.56      0.723      0.431\n",
            "                   car         12         46      0.943       0.37      0.617        0.3\n",
            "            motorcycle          4          5        0.9          1      0.995      0.864\n",
            "              airplane          5          6      0.956          1      0.995      0.904\n",
            "                   bus          5          7          1      0.902      0.995      0.874\n",
            "                 train          3          3      0.954          1      0.995       0.94\n",
            "                 truck          5         12      0.887        0.5      0.595      0.435\n",
            "                  boat          2          6      0.973      0.667      0.783      0.508\n",
            "         traffic light          4         14          1      0.423      0.483      0.287\n",
            "             stop sign          2          2      0.784          1      0.995      0.946\n",
            "                 bench          5          9          1      0.772      0.934      0.699\n",
            "                  bird          2         16      0.966          1      0.995      0.761\n",
            "                   cat          4          4      0.916          1      0.995       0.93\n",
            "                   dog          9          9      0.908      0.889      0.975      0.823\n",
            "                 horse          1          2      0.852          1      0.995        0.8\n",
            "              elephant          4         17      0.965      0.941      0.951      0.853\n",
            "                  bear          1          1      0.737          1      0.995      0.895\n",
            "                 zebra          2          4      0.903          1      0.995      0.995\n",
            "               giraffe          4          9          1      0.876      0.995      0.837\n",
            "              backpack          4          6      0.889      0.667      0.808      0.587\n",
            "              umbrella          4         18      0.896      0.833      0.979      0.707\n",
            "               handbag          9         19      0.862      0.474      0.522      0.376\n",
            "                   tie          6          7      0.955      0.857      0.858      0.705\n",
            "              suitcase          2          4       0.98          1      0.995      0.723\n",
            "               frisbee          5          5      0.767        0.8      0.807      0.701\n",
            "                  skis          1          1      0.931          1      0.995      0.995\n",
            "             snowboard          2          7       0.84      0.857      0.944      0.733\n",
            "           sports ball          6          6          1      0.636      0.671      0.459\n",
            "                  kite          2         10      0.897        0.4      0.542      0.291\n",
            "          baseball bat          4          4      0.855       0.75      0.912       0.54\n",
            "        baseball glove          4          7      0.933      0.429      0.438      0.261\n",
            "            skateboard          3          5      0.868        0.8      0.872      0.544\n",
            "         tennis racket          5          7      0.932      0.714      0.718      0.537\n",
            "                bottle          6         18      0.787      0.411      0.791      0.564\n",
            "            wine glass          5         16       0.91      0.562      0.883      0.599\n",
            "                   cup         10         36      0.704      0.889      0.847      0.606\n",
            "                  fork          6          6          1       0.49      0.728      0.591\n",
            "                 knife          7         16      0.895       0.75      0.875      0.629\n",
            "                 spoon          5         22      0.752      0.551      0.671      0.502\n",
            "                  bowl          9         28      0.959      0.826      0.861      0.762\n",
            "                banana          1          1      0.717          1      0.995      0.995\n",
            "              sandwich          2          2      0.837          1      0.995      0.995\n",
            "                orange          1          4      0.628          1      0.995      0.722\n",
            "              broccoli          4         11      0.716      0.182      0.736      0.527\n",
            "                carrot          3         24      0.951      0.809      0.908      0.678\n",
            "               hot dog          1          2      0.833          1      0.995      0.995\n",
            "                 pizza          5          5      0.937          1      0.995      0.946\n",
            "                 donut          2         14      0.814          1      0.986      0.919\n",
            "                  cake          4          4      0.906          1      0.995      0.905\n",
            "                 chair          9         35      0.825      0.629      0.813      0.542\n",
            "                 couch          5          6          1      0.894      0.995      0.783\n",
            "          potted plant          9         14      0.814      0.857      0.917      0.761\n",
            "                   bed          3          3      0.806          1      0.995      0.864\n",
            "          dining table         10         13      0.907      0.752      0.873      0.762\n",
            "                toilet          2          2      0.826          1      0.995      0.945\n",
            "                    tv          2          2       0.82          1      0.995      0.946\n",
            "                laptop          2          3      0.698          1      0.995      0.962\n",
            "                 mouse          2          2      0.564        0.5      0.528      0.355\n",
            "                remote          5          8          1      0.569      0.683      0.607\n",
            "            cell phone          5          8      0.668      0.625      0.629      0.433\n",
            "             microwave          3          3      0.935          1      0.995      0.963\n",
            "                  oven          5          5      0.647        0.6      0.578      0.436\n",
            "                  sink          4          6      0.848      0.667       0.84      0.627\n",
            "          refrigerator          5          5      0.818          1      0.995      0.829\n",
            "                  book          6         29      0.833      0.517      0.732      0.452\n",
            "                 clock          8          9          1      0.946      0.995      0.873\n",
            "                  vase          2          2      0.865          1      0.995      0.995\n",
            "              scissors          1          1          1          0      0.995      0.298\n",
            "            teddy bear          6         21          1      0.856      0.928      0.725\n",
            "            toothbrush          2          5      0.587          1      0.818      0.648\n",
            "Speed: 1.2ms preprocess, 9.2ms inference, 0.0ms loss, 2.0ms postprocess per image\n",
            "Results saved to \u001b[1mruns/detect/yolov8s_baseline_eval\u001b[0m\n",
            "\n",
            "Evaluating YOLOv8m...\n",
            "Ultralytics 8.3.130 🚀 Python-3.11.12 torch-2.6.0+cu124 CUDA:0 (Tesla T4, 15095MiB)\n",
            "Model summary (fused): 92 layers, 25,886,080 parameters, 0 gradients, 78.9 GFLOPs\n",
            "\u001b[34m\u001b[1mval: \u001b[0mFast image access ✅ (ping: 0.0±0.0 ms, read: 523.4±193.4 MB/s, size: 44.8 KB)\n"
          ]
        },
        {
          "output_type": "stream",
          "name": "stderr",
          "text": [
            "\u001b[34m\u001b[1mval: \u001b[0mScanning /content/datasets/coco128/labels/train2017.cache... 126 images, 2 backgrounds, 0 corrupt: 100%|██████████| 128/128 [00:00<?, ?it/s]\n",
            "                 Class     Images  Instances      Box(P          R      mAP50  mAP50-95): 100%|██████████| 8/8 [00:04<00:00,  1.75it/s]\n"
          ]
        },
        {
          "output_type": "stream",
          "name": "stdout",
          "text": [
            "                   all        128        929      0.924      0.848      0.911      0.759\n",
            "                person         61        254      0.982      0.772      0.919      0.739\n",
            "               bicycle          3          6          1      0.612      0.812      0.639\n",
            "                   car         12         46      0.927      0.413      0.658      0.371\n",
            "            motorcycle          4          5      0.921          1      0.995      0.901\n",
            "              airplane          5          6      0.943          1      0.995      0.935\n",
            "                   bus          5          7      0.983          1      0.995      0.925\n",
            "                 train          3          3      0.886          1      0.995      0.995\n",
            "                 truck          5         12      0.847        0.5       0.77      0.586\n",
            "                  boat          2          6          1      0.629      0.778       0.59\n",
            "         traffic light          4         14          1      0.443      0.587      0.363\n",
            "             stop sign          2          2       0.86          1      0.995      0.895\n",
            "                 bench          5          9          1      0.889      0.995      0.862\n",
            "                  bird          2         16      0.991          1      0.995      0.753\n",
            "                   cat          4          4      0.919          1      0.995      0.876\n",
            "                   dog          9          9      0.957          1      0.995      0.938\n",
            "                 horse          1          2      0.879          1      0.995      0.805\n",
            "              elephant          4         17      0.993      0.941      0.972      0.866\n",
            "                  bear          1          1      0.781          1      0.995      0.995\n",
            "                 zebra          2          4      0.915          1      0.995      0.974\n",
            "               giraffe          4          9      0.966          1      0.995       0.92\n",
            "              backpack          4          6      0.818      0.833      0.846      0.693\n",
            "              umbrella          4         18          1      0.995      0.995      0.841\n",
            "               handbag          9         19      0.962      0.632      0.746      0.553\n",
            "                   tie          6          7      0.971      0.857      0.861      0.749\n",
            "              suitcase          2          4      0.913          1      0.995      0.798\n",
            "               frisbee          5          5      0.893        0.8      0.807      0.777\n",
            "                  skis          1          1      0.818          1      0.995      0.895\n",
            "             snowboard          2          7      0.806      0.857      0.867      0.726\n",
            "           sports ball          6          6       0.97      0.667      0.793      0.466\n",
            "                  kite          2         10      0.988        0.5      0.681      0.235\n",
            "          baseball bat          4          4      0.883       0.75       0.75      0.613\n",
            "        baseball glove          4          7      0.908      0.429      0.445      0.313\n",
            "            skateboard          3          5      0.968          1      0.995      0.698\n",
            "         tennis racket          5          7          1      0.712      0.725      0.538\n",
            "                bottle          6         18          1      0.734      0.963      0.714\n",
            "            wine glass          5         16      0.864      0.562      0.899      0.622\n",
            "                   cup         10         36      0.924      0.889       0.94      0.673\n",
            "                  fork          6          6          1      0.728      0.972       0.69\n",
            "                 knife          7         16      0.911       0.64      0.883      0.646\n",
            "                 spoon          5         22          1      0.723      0.832      0.634\n",
            "                  bowl          9         28      0.987      0.857      0.907      0.776\n",
            "                banana          1          1      0.785          1      0.995      0.995\n",
            "              sandwich          2          2      0.809          1      0.995      0.995\n",
            "                orange          1          4       0.92          1      0.995      0.843\n",
            "              broccoli          4         11      0.939      0.455      0.649      0.483\n",
            "                carrot          3         24      0.953      0.841      0.925      0.726\n",
            "               hot dog          1          2      0.848          1      0.995      0.995\n",
            "                 pizza          5          5      0.948          1      0.995      0.958\n",
            "                 donut          2         14      0.942          1      0.995      0.938\n",
            "                  cake          4          4      0.915          1      0.995      0.942\n",
            "                 chair          9         35       0.96      0.688      0.942      0.697\n",
            "                 couch          5          6      0.932          1      0.995      0.881\n",
            "          potted plant          9         14      0.909      0.929      0.976      0.796\n",
            "                   bed          3          3      0.905          1      0.995      0.952\n",
            "          dining table         10         13      0.987      0.923      0.927      0.855\n",
            "                toilet          2          2      0.858          1      0.995      0.995\n",
            "                    tv          2          2      0.858          1      0.995      0.946\n",
            "                laptop          2          3          1       0.93      0.995      0.908\n",
            "                 mouse          2          2          1      0.796      0.995        0.6\n",
            "                remote          5          8          1      0.688      0.881        0.7\n",
            "            cell phone          5          8      0.774      0.625      0.724      0.558\n",
            "             microwave          3          3      0.876          1      0.995      0.964\n",
            "                  oven          5          5      0.822        0.8        0.8      0.661\n",
            "                  sink          4          6      0.961      0.833      0.895      0.703\n",
            "          refrigerator          5          5      0.923          1      0.995      0.841\n",
            "                  book          6         29      0.897      0.598      0.799      0.524\n",
            "                 clock          8          9          1       0.95      0.995      0.902\n",
            "                  vase          2          2      0.869          1      0.995      0.995\n",
            "              scissors          1          1      0.782          1      0.995      0.298\n",
            "            teddy bear          6         21          1      0.808      0.959       0.78\n",
            "            toothbrush          2          5      0.918          1      0.995      0.895\n",
            "Speed: 1.9ms preprocess, 20.1ms inference, 0.0ms loss, 2.2ms postprocess per image\n",
            "Results saved to \u001b[1mruns/detect/yolov8m_baseline_eval\u001b[0m\n"
          ]
        }
      ]
    },
    {
      "cell_type": "code",
      "source": [
        "import pandas as pd\n",
        "\n",
        "def plot_training_results(model_size):\n",
        "    results_path = f'runs/detect/yolov8{model_size}_baseline/results.csv'\n",
        "    results = pd.read_csv(results_path)\n",
        "\n",
        "    plt.figure(figsize=(12, 4))\n",
        "\n",
        "    plt.subplot(1, 3, 1)\n",
        "    plt.plot(results['epoch'], results['train/box_loss'], label='Train Loss')\n",
        "    plt.plot(results['epoch'], results['val/box_loss'], label='Val Loss')\n",
        "    plt.title('Bounding Box Loss')\n",
        "    plt.legend()\n",
        "\n",
        "    plt.subplot(1, 3, 2)\n",
        "    plt.plot(results['epoch'], results['metrics/precision(B)'], label='Precision')\n",
        "    plt.plot(results['epoch'], results['metrics/recall(B)'], label='Recall')\n",
        "    plt.title('Precision/Recall')\n",
        "    plt.legend()\n",
        "\n",
        "    plt.subplot(1, 3, 3)\n",
        "    plt.plot(results['epoch'], results['metrics/mAP50(B)'], label='mAP@0.5')\n",
        "    plt.plot(results['epoch'], results['metrics/mAP50-95(B)'], label='mAP@0.5:0.95')\n",
        "    plt.title('mAP Metrics')\n",
        "    plt.legend()\n",
        "\n",
        "    plt.tight_layout()\n",
        "    plt.show()"
      ],
      "metadata": {
        "id": "fLByzZ64-FrX"
      },
      "execution_count": 19,
      "outputs": []
    },
    {
      "cell_type": "code",
      "source": [
        "for size in ['n', 's', 'm']:\n",
        "    print(f\"\\nTraining Results for YOLOv8{size}:\")\n",
        "    plot_training_results(size)"
      ],
      "metadata": {
        "colab": {
          "base_uri": "https://localhost:8080/",
          "height": 823
        },
        "id": "tBw0Qla2-NFq",
        "outputId": "5920556c-13b3-44a4-86ed-89018021f057"
      },
      "execution_count": 20,
      "outputs": [
        {
          "output_type": "stream",
          "name": "stdout",
          "text": [
            "\n",
            "Training Results for YOLOv8n:\n"
          ]
        },
        {
          "output_type": "display_data",
          "data": {
            "text/plain": [
              "<Figure size 1200x400 with 3 Axes>"
            ],
            "image/png": "[encoded data removed]"
          },
          "metadata": {}
        },
        {
          "output_type": "stream",
          "name": "stdout",
          "text": [
            "\n",
            "Training Results for YOLOv8s:\n"
          ]
        },
        {
          "output_type": "display_data",
          "data": {
            "text/plain": [
              "<Figure size 1200x400 with 3 Axes>"
            ],
            "image/png": "[encoded data removed]"
          },
          "metadata": {}
        },
        {
          "output_type": "stream",
          "name": "stdout",
          "text": [
            "\n",
            "Training Results for YOLOv8m:\n"
          ]
        },
        {
          "output_type": "display_data",
          "data": {
            "text/plain": [
              "<Figure size 1200x400 with 3 Axes>"
            ],
            "image/png": "[encoded data removed]"
          },
          "metadata": {}
        }
      ]
    },
    {
      "cell_type": "markdown",
      "source": [
        "Как можно видеть, лучше всех справилась модель yolov8m, а потому будем использовать её на улучшенном бейзлайне"
      ],
      "metadata": {
        "id": "IT5pzcMZAPIJ"
      }
    },
    {
      "cell_type": "markdown",
      "source": [
        "## 3.\tУлучшение бейзлайна"
      ],
      "metadata": {
        "id": "0zq8x7mZAYao"
      }
    },
    {
      "cell_type": "markdown",
      "source": [
        "Улучшим бейзлайн, оптимизировав параметры модели и обучения, а также добавив аугментации данных"
      ],
      "metadata": {
        "id": "vbXW8P9cAcnx"
      }
    },
    {
      "cell_type": "code",
      "source": [
        "def train_improved(model_size='m', epochs=30, imgsz=800):\n",
        "    model = YOLO(f'yolov8{model_size}.pt')\n",
        "    results = model.train(\n",
        "        data='coco128.yaml',\n",
        "        epochs=epochs,\n",
        "        imgsz=imgsz,\n",
        "        batch=8,\n",
        "        augment=True,\n",
        "        lr0=0.001,\n",
        "        hsv_h=0.5,\n",
        "        hsv_s=0.5,\n",
        "        hsv_v=0.5,\n",
        "        degrees=45,\n",
        "        translate=0.2,\n",
        "        scale=0.5,\n",
        "        name=f'yolov8{model_size}_improved'\n",
        "    )\n",
        "    return model, results\n",
        "\n",
        "print(\"\\nTraining Improved YOLOv8m...\")\n",
        "improved_model, improved_results = train_improved()"
      ],
      "metadata": {
        "colab": {
          "base_uri": "https://localhost:8080/"
        },
        "id": "6avjO5Cf-kzW",
        "outputId": "5c548eac-576b-4312-dba8-f6073c88621d"
      },
      "execution_count": 22,
      "outputs": [
        {
          "output_type": "stream",
          "name": "stdout",
          "text": [
            "\n",
            "Training Improved YOLOv8m...\n",
            "Ultralytics 8.3.130 🚀 Python-3.11.12 torch-2.6.0+cu124 CUDA:0 (Tesla T4, 15095MiB)\n",
            "\u001b[34m\u001b[1mengine/trainer: \u001b[0magnostic_nms=False, amp=True, augment=True, auto_augment=randaugment, batch=8, bgr=0.0, box=7.5, cache=False, cfg=None, classes=None, close_mosaic=10, cls=0.5, conf=None, copy_paste=0.0, copy_paste_mode=flip, cos_lr=False, cutmix=0.0, data=coco128.yaml, degrees=45, deterministic=True, device=None, dfl=1.5, dnn=False, dropout=0.0, dynamic=False, embed=None, epochs=30, erasing=0.4, exist_ok=False, fliplr=0.5, flipud=0.0, format=torchscript, fraction=1.0, freeze=None, half=False, hsv_h=0.5, hsv_s=0.5, hsv_v=0.5, imgsz=800, int8=False, iou=0.7, keras=False, kobj=1.0, line_width=None, lr0=0.001, lrf=0.01, mask_ratio=4, max_det=300, mixup=0.0, mode=train, model=yolov8m.pt, momentum=0.937, mosaic=1.0, multi_scale=False, name=yolov8m_improved2, nbs=64, nms=False, opset=None, optimize=False, optimizer=auto, overlap_mask=True, patience=100, perspective=0.0, plots=True, pose=12.0, pretrained=True, profile=False, project=None, rect=False, resume=False, retina_masks=False, save=True, save_conf=False, save_crop=False, save_dir=runs/detect/yolov8m_improved2, save_frames=False, save_json=False, save_period=-1, save_txt=False, scale=0.5, seed=0, shear=0.0, show=False, show_boxes=True, show_conf=True, show_labels=True, simplify=True, single_cls=False, source=None, split=val, stream_buffer=False, task=detect, time=None, tracker=botsort.yaml, translate=0.2, val=True, verbose=True, vid_stride=1, visualize=False, warmup_bias_lr=0.1, warmup_epochs=3.0, warmup_momentum=0.8, weight_decay=0.0005, workers=8, workspace=None\n",
            "\n",
            "                   from  n    params  module                                       arguments                     \n",
            "  0                  -1  1      1392  ultralytics.nn.modules.conv.Conv             [3, 48, 3, 2]                 \n",
            "  1                  -1  1     41664  ultralytics.nn.modules.conv.Conv             [48, 96, 3, 2]                \n",
            "  2                  -1  2    111360  ultralytics.nn.modules.block.C2f             [96, 96, 2, True]             \n",
            "  3                  -1  1    166272  ultralytics.nn.modules.conv.Conv             [96, 192, 3, 2]               \n",
            "  4                  -1  4    813312  ultralytics.nn.modules.block.C2f             [192, 192, 4, True]           \n",
            "  5                  -1  1    664320  ultralytics.nn.modules.conv.Conv             [192, 384, 3, 2]              \n",
            "  6                  -1  4   3248640  ultralytics.nn.modules.block.C2f             [384, 384, 4, True]           \n",
            "  7                  -1  1   1991808  ultralytics.nn.modules.conv.Conv             [384, 576, 3, 2]              \n",
            "  8                  -1  2   3985920  ultralytics.nn.modules.block.C2f             [576, 576, 2, True]           \n",
            "  9                  -1  1    831168  ultralytics.nn.modules.block.SPPF            [576, 576, 5]                 \n",
            " 10                  -1  1         0  torch.nn.modules.upsampling.Upsample         [None, 2, 'nearest']          \n",
            " 11             [-1, 6]  1         0  ultralytics.nn.modules.conv.Concat           [1]                           \n",
            " 12                  -1  2   1993728  ultralytics.nn.modules.block.C2f             [960, 384, 2]                 \n",
            " 13                  -1  1         0  torch.nn.modules.upsampling.Upsample         [None, 2, 'nearest']          \n",
            " 14             [-1, 4]  1         0  ultralytics.nn.modules.conv.Concat           [1]                           \n",
            " 15                  -1  2    517632  ultralytics.nn.modules.block.C2f             [576, 192, 2]                 \n",
            " 16                  -1  1    332160  ultralytics.nn.modules.conv.Conv             [192, 192, 3, 2]              \n",
            " 17            [-1, 12]  1         0  ultralytics.nn.modules.conv.Concat           [1]                           \n",
            " 18                  -1  2   1846272  ultralytics.nn.modules.block.C2f             [576, 384, 2]                 \n",
            " 19                  -1  1   1327872  ultralytics.nn.modules.conv.Conv             [384, 384, 3, 2]              \n",
            " 20             [-1, 9]  1         0  ultralytics.nn.modules.conv.Concat           [1]                           \n",
            " 21                  -1  2   4207104  ultralytics.nn.modules.block.C2f             [960, 576, 2]                 \n",
            " 22        [15, 18, 21]  1   3822016  ultralytics.nn.modules.head.Detect           [80, [192, 384, 576]]         \n",
            "Model summary: 169 layers, 25,902,640 parameters, 25,902,624 gradients, 79.3 GFLOPs\n",
            "\n",
            "Transferred 475/475 items from pretrained weights\n",
            "Freezing layer 'model.22.dfl.conv.weight'\n",
            "\u001b[34m\u001b[1mAMP: \u001b[0mrunning Automatic Mixed Precision (AMP) checks...\n",
            "\u001b[34m\u001b[1mAMP: \u001b[0mchecks passed ✅\n",
            "\u001b[34m\u001b[1mtrain: \u001b[0mFast image access ✅ (ping: 0.0±0.0 ms, read: 1198.6±397.2 MB/s, size: 50.9 KB)\n"
          ]
        },
        {
          "output_type": "stream",
          "name": "stderr",
          "text": [
            "\u001b[34m\u001b[1mtrain: \u001b[0mScanning /content/datasets/coco128/labels/train2017.cache... 126 images, 2 backgrounds, 0 corrupt: 100%|██████████| 128/128 [00:00<?, ?it/s]"
          ]
        },
        {
          "output_type": "stream",
          "name": "stdout",
          "text": [
            "\u001b[34m\u001b[1malbumentations: \u001b[0mBlur(p=0.01, blur_limit=(3, 7)), MedianBlur(p=0.01, blur_limit=(3, 7)), ToGray(p=0.01, method='weighted_average', num_output_channels=3), CLAHE(p=0.01, clip_limit=(1.0, 4.0), tile_grid_size=(8, 8))\n"
          ]
        },
        {
          "output_type": "stream",
          "name": "stderr",
          "text": [
            "\n"
          ]
        },
        {
          "output_type": "stream",
          "name": "stdout",
          "text": [
            "\u001b[34m\u001b[1mval: \u001b[0mFast image access ✅ (ping: 0.3±0.6 ms, read: 296.7±123.7 MB/s, size: 52.5 KB)\n"
          ]
        },
        {
          "output_type": "stream",
          "name": "stderr",
          "text": [
            "\u001b[34m\u001b[1mval: \u001b[0mScanning /content/datasets/coco128/labels/train2017.cache... 126 images, 2 backgrounds, 0 corrupt: 100%|██████████| 128/128 [00:00<?, ?it/s]\n"
          ]
        },
        {
          "output_type": "stream",
          "name": "stdout",
          "text": [
            "Plotting labels to runs/detect/yolov8m_improved2/labels.jpg... \n",
            "\u001b[34m\u001b[1moptimizer:\u001b[0m 'optimizer=auto' found, ignoring 'lr0=0.001' and 'momentum=0.937' and determining best 'optimizer', 'lr0' and 'momentum' automatically... \n",
            "\u001b[34m\u001b[1moptimizer:\u001b[0m AdamW(lr=0.000119, momentum=0.9) with parameter groups 77 weight(decay=0.0), 84 weight(decay=0.0005), 83 bias(decay=0.0)\n",
            "Image sizes 800 train, 800 val\n",
            "Using 2 dataloader workers\n",
            "Logging results to \u001b[1mruns/detect/yolov8m_improved2\u001b[0m\n",
            "Starting training for 30 epochs...\n",
            "\n",
            "      Epoch    GPU_mem   box_loss   cls_loss   dfl_loss  Instances       Size\n"
          ]
        },
        {
          "output_type": "stream",
          "name": "stderr",
          "text": [
            "       1/30      6.07G      2.363      2.481       2.56         92        800: 100%|██████████| 16/16 [00:08<00:00,  1.96it/s]\n",
            "                 Class     Images  Instances      Box(P          R      mAP50  mAP50-95): 100%|██████████| 8/8 [00:02<00:00,  3.07it/s]"
          ]
        },
        {
          "output_type": "stream",
          "name": "stdout",
          "text": [
            "                   all        128        929      0.724      0.706      0.774      0.595\n"
          ]
        },
        {
          "output_type": "stream",
          "name": "stderr",
          "text": [
            "\n"
          ]
        },
        {
          "output_type": "stream",
          "name": "stdout",
          "text": [
            "\n",
            "      Epoch    GPU_mem   box_loss   cls_loss   dfl_loss  Instances       Size\n"
          ]
        },
        {
          "output_type": "stream",
          "name": "stderr",
          "text": [
            "       2/30      6.51G      2.276      2.246      2.315        122        800: 100%|██████████| 16/16 [00:07<00:00,  2.09it/s]\n",
            "                 Class     Images  Instances      Box(P          R      mAP50  mAP50-95): 100%|██████████| 8/8 [00:02<00:00,  3.20it/s]"
          ]
        },
        {
          "output_type": "stream",
          "name": "stdout",
          "text": [
            "                   all        128        929      0.785      0.673      0.763      0.545\n"
          ]
        },
        {
          "output_type": "stream",
          "name": "stderr",
          "text": [
            "\n"
          ]
        },
        {
          "output_type": "stream",
          "name": "stdout",
          "text": [
            "\n",
            "      Epoch    GPU_mem   box_loss   cls_loss   dfl_loss  Instances       Size\n"
          ]
        },
        {
          "output_type": "stream",
          "name": "stderr",
          "text": [
            "       3/30      6.58G      1.902      1.975      1.994         58        800: 100%|██████████| 16/16 [00:07<00:00,  2.15it/s]\n",
            "                 Class     Images  Instances      Box(P          R      mAP50  mAP50-95): 100%|██████████| 8/8 [00:02<00:00,  3.08it/s]"
          ]
        },
        {
          "output_type": "stream",
          "name": "stdout",
          "text": [
            "                   all        128        929        0.7      0.722      0.755      0.413\n"
          ]
        },
        {
          "output_type": "stream",
          "name": "stderr",
          "text": [
            "\n"
          ]
        },
        {
          "output_type": "stream",
          "name": "stdout",
          "text": [
            "\n",
            "      Epoch    GPU_mem   box_loss   cls_loss   dfl_loss  Instances       Size\n"
          ]
        },
        {
          "output_type": "stream",
          "name": "stderr",
          "text": [
            "       4/30      6.65G      1.876      1.906      1.952         90        800: 100%|██████████| 16/16 [00:07<00:00,  2.18it/s]\n",
            "                 Class     Images  Instances      Box(P          R      mAP50  mAP50-95): 100%|██████████| 8/8 [00:02<00:00,  2.82it/s]"
          ]
        },
        {
          "output_type": "stream",
          "name": "stdout",
          "text": [
            "                   all        128        929      0.684      0.663      0.711      0.297\n"
          ]
        },
        {
          "output_type": "stream",
          "name": "stderr",
          "text": [
            "\n"
          ]
        },
        {
          "output_type": "stream",
          "name": "stdout",
          "text": [
            "\n",
            "      Epoch    GPU_mem   box_loss   cls_loss   dfl_loss  Instances       Size\n"
          ]
        },
        {
          "output_type": "stream",
          "name": "stderr",
          "text": [
            "       5/30      6.65G      1.818       1.82      1.894         82        800: 100%|██████████| 16/16 [00:07<00:00,  2.18it/s]\n",
            "                 Class     Images  Instances      Box(P          R      mAP50  mAP50-95): 100%|██████████| 8/8 [00:02<00:00,  3.09it/s]"
          ]
        },
        {
          "output_type": "stream",
          "name": "stdout",
          "text": [
            "                   all        128        929      0.713      0.602      0.685      0.254\n"
          ]
        },
        {
          "output_type": "stream",
          "name": "stderr",
          "text": [
            "\n"
          ]
        },
        {
          "output_type": "stream",
          "name": "stdout",
          "text": [
            "\n",
            "      Epoch    GPU_mem   box_loss   cls_loss   dfl_loss  Instances       Size\n"
          ]
        },
        {
          "output_type": "stream",
          "name": "stderr",
          "text": [
            "       6/30      7.05G      1.727      1.765      1.854        147        800: 100%|██████████| 16/16 [00:07<00:00,  2.14it/s]\n",
            "                 Class     Images  Instances      Box(P          R      mAP50  mAP50-95): 100%|██████████| 8/8 [00:02<00:00,  3.25it/s]"
          ]
        },
        {
          "output_type": "stream",
          "name": "stdout",
          "text": [
            "                   all        128        929      0.715       0.63      0.696      0.249\n"
          ]
        },
        {
          "output_type": "stream",
          "name": "stderr",
          "text": [
            "\n"
          ]
        },
        {
          "output_type": "stream",
          "name": "stdout",
          "text": [
            "\n",
            "      Epoch    GPU_mem   box_loss   cls_loss   dfl_loss  Instances       Size\n"
          ]
        },
        {
          "output_type": "stream",
          "name": "stderr",
          "text": [
            "       7/30      7.05G      1.736      1.642       1.78        116        800: 100%|██████████| 16/16 [00:07<00:00,  2.11it/s]\n",
            "                 Class     Images  Instances      Box(P          R      mAP50  mAP50-95): 100%|██████████| 8/8 [00:02<00:00,  3.20it/s]"
          ]
        },
        {
          "output_type": "stream",
          "name": "stdout",
          "text": [
            "                   all        128        929      0.739      0.662      0.724      0.268\n"
          ]
        },
        {
          "output_type": "stream",
          "name": "stderr",
          "text": [
            "\n"
          ]
        },
        {
          "output_type": "stream",
          "name": "stdout",
          "text": [
            "\n",
            "      Epoch    GPU_mem   box_loss   cls_loss   dfl_loss  Instances       Size\n"
          ]
        },
        {
          "output_type": "stream",
          "name": "stderr",
          "text": [
            "       8/30      7.05G      1.668      1.688      1.727         70        800: 100%|██████████| 16/16 [00:07<00:00,  2.16it/s]\n",
            "                 Class     Images  Instances      Box(P          R      mAP50  mAP50-95): 100%|██████████| 8/8 [00:02<00:00,  3.17it/s]"
          ]
        },
        {
          "output_type": "stream",
          "name": "stdout",
          "text": [
            "                   all        128        929      0.747       0.67      0.728      0.284\n"
          ]
        },
        {
          "output_type": "stream",
          "name": "stderr",
          "text": [
            "\n"
          ]
        },
        {
          "output_type": "stream",
          "name": "stdout",
          "text": [
            "\n",
            "      Epoch    GPU_mem   box_loss   cls_loss   dfl_loss  Instances       Size\n"
          ]
        },
        {
          "output_type": "stream",
          "name": "stderr",
          "text": [
            "       9/30      7.05G       1.65       1.57      1.716         81        800: 100%|██████████| 16/16 [00:07<00:00,  2.15it/s]\n",
            "                 Class     Images  Instances      Box(P          R      mAP50  mAP50-95): 100%|██████████| 8/8 [00:02<00:00,  3.26it/s]"
          ]
        },
        {
          "output_type": "stream",
          "name": "stdout",
          "text": [
            "                   all        128        929      0.767      0.676      0.758      0.298\n"
          ]
        },
        {
          "output_type": "stream",
          "name": "stderr",
          "text": [
            "\n"
          ]
        },
        {
          "output_type": "stream",
          "name": "stdout",
          "text": [
            "\n",
            "      Epoch    GPU_mem   box_loss   cls_loss   dfl_loss  Instances       Size\n"
          ]
        },
        {
          "output_type": "stream",
          "name": "stderr",
          "text": [
            "      10/30      7.05G      1.637      1.494      1.677         86        800: 100%|██████████| 16/16 [00:07<00:00,  2.26it/s]\n",
            "                 Class     Images  Instances      Box(P          R      mAP50  mAP50-95): 100%|██████████| 8/8 [00:02<00:00,  3.00it/s]"
          ]
        },
        {
          "output_type": "stream",
          "name": "stdout",
          "text": [
            "                   all        128        929      0.739      0.703       0.77      0.327\n"
          ]
        },
        {
          "output_type": "stream",
          "name": "stderr",
          "text": [
            "\n"
          ]
        },
        {
          "output_type": "stream",
          "name": "stdout",
          "text": [
            "\n",
            "      Epoch    GPU_mem   box_loss   cls_loss   dfl_loss  Instances       Size\n"
          ]
        },
        {
          "output_type": "stream",
          "name": "stderr",
          "text": [
            "      11/30      7.05G      1.594       1.41      1.629        160        800: 100%|██████████| 16/16 [00:07<00:00,  2.18it/s]\n",
            "                 Class     Images  Instances      Box(P          R      mAP50  mAP50-95): 100%|██████████| 8/8 [00:02<00:00,  3.36it/s]"
          ]
        },
        {
          "output_type": "stream",
          "name": "stdout",
          "text": [
            "                   all        128        929      0.775      0.712      0.792      0.359\n"
          ]
        },
        {
          "output_type": "stream",
          "name": "stderr",
          "text": [
            "\n"
          ]
        },
        {
          "output_type": "stream",
          "name": "stdout",
          "text": [
            "\n",
            "      Epoch    GPU_mem   box_loss   cls_loss   dfl_loss  Instances       Size\n"
          ]
        },
        {
          "output_type": "stream",
          "name": "stderr",
          "text": [
            "      12/30      7.05G      1.541      1.366      1.654         93        800: 100%|██████████| 16/16 [00:07<00:00,  2.16it/s]\n",
            "                 Class     Images  Instances      Box(P          R      mAP50  mAP50-95): 100%|██████████| 8/8 [00:02<00:00,  3.29it/s]"
          ]
        },
        {
          "output_type": "stream",
          "name": "stdout",
          "text": [
            "                   all        128        929      0.761      0.743      0.814      0.363\n"
          ]
        },
        {
          "output_type": "stream",
          "name": "stderr",
          "text": [
            "\n"
          ]
        },
        {
          "output_type": "stream",
          "name": "stdout",
          "text": [
            "\n",
            "      Epoch    GPU_mem   box_loss   cls_loss   dfl_loss  Instances       Size\n"
          ]
        },
        {
          "output_type": "stream",
          "name": "stderr",
          "text": [
            "      13/30      7.05G      1.534      1.337      1.666        115        800: 100%|██████████| 16/16 [00:07<00:00,  2.13it/s]\n",
            "                 Class     Images  Instances      Box(P          R      mAP50  mAP50-95): 100%|██████████| 8/8 [00:02<00:00,  3.16it/s]"
          ]
        },
        {
          "output_type": "stream",
          "name": "stdout",
          "text": [
            "                   all        128        929      0.821      0.745      0.826      0.353\n"
          ]
        },
        {
          "output_type": "stream",
          "name": "stderr",
          "text": [
            "\n"
          ]
        },
        {
          "output_type": "stream",
          "name": "stdout",
          "text": [
            "\n",
            "      Epoch    GPU_mem   box_loss   cls_loss   dfl_loss  Instances       Size\n"
          ]
        },
        {
          "output_type": "stream",
          "name": "stderr",
          "text": [
            "      14/30      7.05G      1.531       1.34      1.616        152        800: 100%|██████████| 16/16 [00:07<00:00,  2.03it/s]\n",
            "                 Class     Images  Instances      Box(P          R      mAP50  mAP50-95): 100%|██████████| 8/8 [00:02<00:00,  3.14it/s]"
          ]
        },
        {
          "output_type": "stream",
          "name": "stdout",
          "text": [
            "                   all        128        929      0.792      0.784      0.837      0.363\n"
          ]
        },
        {
          "output_type": "stream",
          "name": "stderr",
          "text": [
            "\n"
          ]
        },
        {
          "output_type": "stream",
          "name": "stdout",
          "text": [
            "\n",
            "      Epoch    GPU_mem   box_loss   cls_loss   dfl_loss  Instances       Size\n"
          ]
        },
        {
          "output_type": "stream",
          "name": "stderr",
          "text": [
            "      15/30      7.05G      1.611      1.394      1.648        120        800: 100%|██████████| 16/16 [00:07<00:00,  2.12it/s]\n",
            "                 Class     Images  Instances      Box(P          R      mAP50  mAP50-95): 100%|██████████| 8/8 [00:02<00:00,  3.32it/s]"
          ]
        },
        {
          "output_type": "stream",
          "name": "stdout",
          "text": [
            "                   all        128        929       0.83       0.79      0.851      0.384\n"
          ]
        },
        {
          "output_type": "stream",
          "name": "stderr",
          "text": [
            "\n"
          ]
        },
        {
          "output_type": "stream",
          "name": "stdout",
          "text": [
            "\n",
            "      Epoch    GPU_mem   box_loss   cls_loss   dfl_loss  Instances       Size\n"
          ]
        },
        {
          "output_type": "stream",
          "name": "stderr",
          "text": [
            "      16/30      7.05G      1.521      1.373      1.647        131        800: 100%|██████████| 16/16 [00:07<00:00,  2.15it/s]\n",
            "                 Class     Images  Instances      Box(P          R      mAP50  mAP50-95): 100%|██████████| 8/8 [00:02<00:00,  3.35it/s]"
          ]
        },
        {
          "output_type": "stream",
          "name": "stdout",
          "text": [
            "                   all        128        929      0.816       0.81      0.859      0.406\n"
          ]
        },
        {
          "output_type": "stream",
          "name": "stderr",
          "text": [
            "\n"
          ]
        },
        {
          "output_type": "stream",
          "name": "stdout",
          "text": [
            "\n",
            "      Epoch    GPU_mem   box_loss   cls_loss   dfl_loss  Instances       Size\n"
          ]
        },
        {
          "output_type": "stream",
          "name": "stderr",
          "text": [
            "      17/30      7.05G      1.546      1.332      1.635        126        800: 100%|██████████| 16/16 [00:07<00:00,  2.21it/s]\n",
            "                 Class     Images  Instances      Box(P          R      mAP50  mAP50-95): 100%|██████████| 8/8 [00:02<00:00,  3.30it/s]"
          ]
        },
        {
          "output_type": "stream",
          "name": "stdout",
          "text": [
            "                   all        128        929      0.839      0.793      0.859      0.409\n"
          ]
        },
        {
          "output_type": "stream",
          "name": "stderr",
          "text": [
            "\n"
          ]
        },
        {
          "output_type": "stream",
          "name": "stdout",
          "text": [
            "\n",
            "      Epoch    GPU_mem   box_loss   cls_loss   dfl_loss  Instances       Size\n"
          ]
        },
        {
          "output_type": "stream",
          "name": "stderr",
          "text": [
            "      18/30      7.05G      1.446      1.219      1.629         69        800: 100%|██████████| 16/16 [00:07<00:00,  2.10it/s]\n",
            "                 Class     Images  Instances      Box(P          R      mAP50  mAP50-95): 100%|██████████| 8/8 [00:02<00:00,  3.11it/s]"
          ]
        },
        {
          "output_type": "stream",
          "name": "stdout",
          "text": [
            "                   all        128        929      0.802      0.821      0.859      0.404\n"
          ]
        },
        {
          "output_type": "stream",
          "name": "stderr",
          "text": [
            "\n"
          ]
        },
        {
          "output_type": "stream",
          "name": "stdout",
          "text": [
            "\n",
            "      Epoch    GPU_mem   box_loss   cls_loss   dfl_loss  Instances       Size\n"
          ]
        },
        {
          "output_type": "stream",
          "name": "stderr",
          "text": [
            "      19/30      7.08G      1.459      1.215       1.62         97        800: 100%|██████████| 16/16 [00:07<00:00,  2.13it/s]\n",
            "                 Class     Images  Instances      Box(P          R      mAP50  mAP50-95): 100%|██████████| 8/8 [00:02<00:00,  3.29it/s]"
          ]
        },
        {
          "output_type": "stream",
          "name": "stdout",
          "text": [
            "                   all        128        929      0.801      0.816      0.854        0.4\n"
          ]
        },
        {
          "output_type": "stream",
          "name": "stderr",
          "text": [
            "\n"
          ]
        },
        {
          "output_type": "stream",
          "name": "stdout",
          "text": [
            "\n",
            "      Epoch    GPU_mem   box_loss   cls_loss   dfl_loss  Instances       Size\n"
          ]
        },
        {
          "output_type": "stream",
          "name": "stderr",
          "text": [
            "      20/30      7.15G      1.429      1.248      1.603        153        800: 100%|██████████| 16/16 [00:07<00:00,  2.20it/s]\n",
            "                 Class     Images  Instances      Box(P          R      mAP50  mAP50-95): 100%|██████████| 8/8 [00:02<00:00,  3.37it/s]"
          ]
        },
        {
          "output_type": "stream",
          "name": "stdout",
          "text": [
            "                   all        128        929      0.827      0.807       0.86      0.417\n"
          ]
        },
        {
          "output_type": "stream",
          "name": "stderr",
          "text": [
            "\n"
          ]
        },
        {
          "output_type": "stream",
          "name": "stdout",
          "text": [
            "Closing dataloader mosaic\n",
            "\u001b[34m\u001b[1malbumentations: \u001b[0mBlur(p=0.01, blur_limit=(3, 7)), MedianBlur(p=0.01, blur_limit=(3, 7)), ToGray(p=0.01, method='weighted_average', num_output_channels=3), CLAHE(p=0.01, clip_limit=(1.0, 4.0), tile_grid_size=(8, 8))\n",
            "\n",
            "      Epoch    GPU_mem   box_loss   cls_loss   dfl_loss  Instances       Size\n"
          ]
        },
        {
          "output_type": "stream",
          "name": "stderr",
          "text": [
            "      21/30      7.21G      1.442      1.214      1.641         68        800: 100%|██████████| 16/16 [00:07<00:00,  2.02it/s]\n",
            "                 Class     Images  Instances      Box(P          R      mAP50  mAP50-95): 100%|██████████| 8/8 [00:02<00:00,  3.07it/s]"
          ]
        },
        {
          "output_type": "stream",
          "name": "stdout",
          "text": [
            "                   all        128        929      0.826      0.815      0.861      0.419\n"
          ]
        },
        {
          "output_type": "stream",
          "name": "stderr",
          "text": [
            "\n"
          ]
        },
        {
          "output_type": "stream",
          "name": "stdout",
          "text": [
            "\n",
            "      Epoch    GPU_mem   box_loss   cls_loss   dfl_loss  Instances       Size\n"
          ]
        },
        {
          "output_type": "stream",
          "name": "stderr",
          "text": [
            "      22/30      7.21G      1.458       1.19      1.611         39        800: 100%|██████████| 16/16 [00:07<00:00,  2.21it/s]\n",
            "                 Class     Images  Instances      Box(P          R      mAP50  mAP50-95): 100%|██████████| 8/8 [00:02<00:00,  3.37it/s]"
          ]
        },
        {
          "output_type": "stream",
          "name": "stdout",
          "text": [
            "                   all        128        929      0.826      0.815      0.861       0.41\n"
          ]
        },
        {
          "output_type": "stream",
          "name": "stderr",
          "text": [
            "\n"
          ]
        },
        {
          "output_type": "stream",
          "name": "stdout",
          "text": [
            "\n",
            "      Epoch    GPU_mem   box_loss   cls_loss   dfl_loss  Instances       Size\n"
          ]
        },
        {
          "output_type": "stream",
          "name": "stderr",
          "text": [
            "      23/30      7.21G      1.397      1.098      1.613         79        800: 100%|██████████| 16/16 [00:07<00:00,  2.21it/s]\n",
            "                 Class     Images  Instances      Box(P          R      mAP50  mAP50-95): 100%|██████████| 8/8 [00:02<00:00,  3.39it/s]"
          ]
        },
        {
          "output_type": "stream",
          "name": "stdout",
          "text": [
            "                   all        128        929      0.812      0.822      0.857      0.405\n"
          ]
        },
        {
          "output_type": "stream",
          "name": "stderr",
          "text": [
            "\n"
          ]
        },
        {
          "output_type": "stream",
          "name": "stdout",
          "text": [
            "\n",
            "      Epoch    GPU_mem   box_loss   cls_loss   dfl_loss  Instances       Size\n"
          ]
        },
        {
          "output_type": "stream",
          "name": "stderr",
          "text": [
            "      24/30      7.21G      1.413      1.084      1.582         50        800: 100%|██████████| 16/16 [00:07<00:00,  2.20it/s]\n",
            "                 Class     Images  Instances      Box(P          R      mAP50  mAP50-95): 100%|██████████| 8/8 [00:02<00:00,  3.33it/s]"
          ]
        },
        {
          "output_type": "stream",
          "name": "stdout",
          "text": [
            "                   all        128        929      0.829      0.806      0.858      0.408\n"
          ]
        },
        {
          "output_type": "stream",
          "name": "stderr",
          "text": [
            "\n"
          ]
        },
        {
          "output_type": "stream",
          "name": "stdout",
          "text": [
            "\n",
            "      Epoch    GPU_mem   box_loss   cls_loss   dfl_loss  Instances       Size\n"
          ]
        },
        {
          "output_type": "stream",
          "name": "stderr",
          "text": [
            "      25/30      7.21G      1.429      1.024      1.595         79        800: 100%|██████████| 16/16 [00:07<00:00,  2.20it/s]\n",
            "                 Class     Images  Instances      Box(P          R      mAP50  mAP50-95): 100%|██████████| 8/8 [00:02<00:00,  3.23it/s]"
          ]
        },
        {
          "output_type": "stream",
          "name": "stdout",
          "text": [
            "                   all        128        929      0.827      0.799      0.853      0.411\n"
          ]
        },
        {
          "output_type": "stream",
          "name": "stderr",
          "text": [
            "\n"
          ]
        },
        {
          "output_type": "stream",
          "name": "stdout",
          "text": [
            "\n",
            "      Epoch    GPU_mem   box_loss   cls_loss   dfl_loss  Instances       Size\n"
          ]
        },
        {
          "output_type": "stream",
          "name": "stderr",
          "text": [
            "      26/30      7.21G      1.414      1.075      1.614         58        800: 100%|██████████| 16/16 [00:07<00:00,  2.11it/s]\n",
            "                 Class     Images  Instances      Box(P          R      mAP50  mAP50-95): 100%|██████████| 8/8 [00:02<00:00,  3.17it/s]"
          ]
        },
        {
          "output_type": "stream",
          "name": "stdout",
          "text": [
            "                   all        128        929      0.828        0.8      0.853      0.425\n"
          ]
        },
        {
          "output_type": "stream",
          "name": "stderr",
          "text": [
            "\n"
          ]
        },
        {
          "output_type": "stream",
          "name": "stdout",
          "text": [
            "\n",
            "      Epoch    GPU_mem   box_loss   cls_loss   dfl_loss  Instances       Size\n"
          ]
        },
        {
          "output_type": "stream",
          "name": "stderr",
          "text": [
            "      27/30      7.21G      1.394     0.9981      1.537         53        800: 100%|██████████| 16/16 [00:07<00:00,  2.08it/s]\n",
            "                 Class     Images  Instances      Box(P          R      mAP50  mAP50-95): 100%|██████████| 8/8 [00:02<00:00,  3.25it/s]"
          ]
        },
        {
          "output_type": "stream",
          "name": "stdout",
          "text": [
            "                   all        128        929      0.827        0.8      0.856      0.434\n"
          ]
        },
        {
          "output_type": "stream",
          "name": "stderr",
          "text": [
            "\n"
          ]
        },
        {
          "output_type": "stream",
          "name": "stdout",
          "text": [
            "\n",
            "      Epoch    GPU_mem   box_loss   cls_loss   dfl_loss  Instances       Size\n"
          ]
        },
        {
          "output_type": "stream",
          "name": "stderr",
          "text": [
            "      28/30      7.28G      1.389      1.034      1.577         32        800: 100%|██████████| 16/16 [00:07<00:00,  2.24it/s]\n",
            "                 Class     Images  Instances      Box(P          R      mAP50  mAP50-95): 100%|██████████| 8/8 [00:02<00:00,  3.15it/s]"
          ]
        },
        {
          "output_type": "stream",
          "name": "stdout",
          "text": [
            "                   all        128        929      0.838      0.793      0.857      0.437\n"
          ]
        },
        {
          "output_type": "stream",
          "name": "stderr",
          "text": [
            "\n"
          ]
        },
        {
          "output_type": "stream",
          "name": "stdout",
          "text": [
            "\n",
            "      Epoch    GPU_mem   box_loss   cls_loss   dfl_loss  Instances       Size\n"
          ]
        },
        {
          "output_type": "stream",
          "name": "stderr",
          "text": [
            "      29/30      7.35G      1.389      1.013      1.567        106        800: 100%|██████████| 16/16 [00:07<00:00,  2.27it/s]\n",
            "                 Class     Images  Instances      Box(P          R      mAP50  mAP50-95): 100%|██████████| 8/8 [00:02<00:00,  3.35it/s]"
          ]
        },
        {
          "output_type": "stream",
          "name": "stdout",
          "text": [
            "                   all        128        929      0.842      0.794      0.858      0.435\n"
          ]
        },
        {
          "output_type": "stream",
          "name": "stderr",
          "text": [
            "\n"
          ]
        },
        {
          "output_type": "stream",
          "name": "stdout",
          "text": [
            "\n",
            "      Epoch    GPU_mem   box_loss   cls_loss   dfl_loss  Instances       Size\n"
          ]
        },
        {
          "output_type": "stream",
          "name": "stderr",
          "text": [
            "      30/30      6.31G      1.344     0.9616      1.526         42        800: 100%|██████████| 16/16 [00:07<00:00,  2.25it/s]\n",
            "                 Class     Images  Instances      Box(P          R      mAP50  mAP50-95): 100%|██████████| 8/8 [00:02<00:00,  3.20it/s]"
          ]
        },
        {
          "output_type": "stream",
          "name": "stdout",
          "text": [
            "                   all        128        929       0.83      0.799      0.857      0.439\n"
          ]
        },
        {
          "output_type": "stream",
          "name": "stderr",
          "text": [
            "\n"
          ]
        },
        {
          "output_type": "stream",
          "name": "stdout",
          "text": [
            "\n",
            "30 epochs completed in 0.127 hours.\n",
            "Optimizer stripped from runs/detect/yolov8m_improved2/weights/last.pt, 52.1MB\n",
            "Optimizer stripped from runs/detect/yolov8m_improved2/weights/best.pt, 52.1MB\n",
            "\n",
            "Validating runs/detect/yolov8m_improved2/weights/best.pt...\n",
            "Ultralytics 8.3.130 🚀 Python-3.11.12 torch-2.6.0+cu124 CUDA:0 (Tesla T4, 15095MiB)\n",
            "Model summary (fused): 92 layers, 25,886,080 parameters, 0 gradients, 78.9 GFLOPs\n"
          ]
        },
        {
          "output_type": "stream",
          "name": "stderr",
          "text": [
            "                 Class     Images  Instances      Box(P          R      mAP50  mAP50-95): 100%|██████████| 8/8 [00:06<00:00,  1.20it/s]\n"
          ]
        },
        {
          "output_type": "stream",
          "name": "stdout",
          "text": [
            "                   all        128        929       0.77      0.704      0.794       0.63\n",
            "                person         61        254      0.891      0.681      0.847      0.648\n",
            "               bicycle          3          6      0.728      0.333      0.722      0.553\n",
            "                   car         12         46      0.893      0.364      0.622      0.332\n",
            "            motorcycle          4          5      0.798          1      0.962      0.771\n",
            "              airplane          5          6      0.924          1      0.995      0.914\n",
            "                   bus          5          7      0.768      0.714      0.846       0.74\n",
            "                 train          3          3      0.859          1      0.995      0.962\n",
            "                 truck          5         12      0.696        0.5      0.595      0.384\n",
            "                  boat          2          6      0.853        0.5      0.779      0.542\n",
            "         traffic light          4         14          1      0.392       0.55      0.335\n",
            "             stop sign          2          2        0.8          1      0.995      0.995\n",
            "                 bench          5          9          1      0.608      0.761      0.479\n",
            "                  bird          2         16      0.964          1      0.995      0.685\n",
            "                   cat          4          4      0.879          1      0.995       0.89\n",
            "                   dog          9          9          1      0.882      0.984      0.842\n",
            "                 horse          1          2      0.815          1      0.995      0.747\n",
            "              elephant          4         17      0.853      0.882      0.928      0.827\n",
            "                  bear          1          1      0.712          1      0.995      0.895\n",
            "                 zebra          2          4      0.879          1      0.995      0.995\n",
            "               giraffe          4          9      0.936          1      0.995       0.82\n",
            "              backpack          4          6      0.739        0.5      0.598      0.404\n",
            "              umbrella          4         18          1      0.715      0.962      0.699\n",
            "               handbag          9         19      0.682      0.227      0.437      0.307\n",
            "                   tie          6          7          1      0.814      0.858      0.611\n",
            "              suitcase          2          4      0.957          1      0.995      0.641\n",
            "               frisbee          5          5      0.776        0.8      0.803      0.743\n",
            "                  skis          1          1      0.754          1      0.995      0.895\n",
            "             snowboard          2          7       0.66      0.714      0.738      0.665\n",
            "           sports ball          6          6      0.674      0.833      0.754      0.495\n",
            "                  kite          2         10      0.587      0.428      0.482      0.172\n",
            "          baseball bat          4          4      0.399        0.5      0.552      0.233\n",
            "        baseball glove          4          7      0.806      0.599      0.796      0.447\n",
            "            skateboard          3          5      0.688        0.4      0.645      0.418\n",
            "         tennis racket          5          7      0.782      0.714       0.67      0.397\n",
            "                bottle          6         18       0.66      0.556      0.697       0.53\n",
            "            wine glass          5         16      0.839      0.652      0.885      0.589\n",
            "                   cup         10         36       0.86      0.682      0.831      0.585\n",
            "                  fork          6          6      0.562      0.228      0.668      0.447\n",
            "                 knife          7         16      0.901      0.562      0.856      0.589\n",
            "                 spoon          5         22      0.847      0.682      0.729      0.573\n",
            "                  bowl          9         28      0.776      0.744      0.769       0.68\n",
            "                banana          1          1      0.367          1      0.995      0.995\n",
            "              sandwich          2          2      0.747          1      0.995      0.995\n",
            "                orange          1          4          1      0.256      0.895      0.695\n",
            "              broccoli          4         11      0.522      0.182      0.305      0.255\n",
            "                carrot          3         24      0.635      0.581      0.656      0.464\n",
            "               hot dog          1          2      0.585          1      0.828      0.828\n",
            "                 pizza          5          5      0.662          1      0.995      0.868\n",
            "                 donut          2         14      0.797          1      0.978      0.898\n",
            "                  cake          4          4      0.845          1      0.995      0.871\n",
            "                 chair          9         35      0.607      0.529      0.669      0.475\n",
            "                 couch          5          6      0.995      0.833      0.942      0.777\n",
            "          potted plant          9         14      0.786      0.527      0.807       0.57\n",
            "                   bed          3          3          1      0.993      0.995      0.748\n",
            "          dining table         10         13       0.62      0.769      0.713      0.606\n",
            "                toilet          2          2      0.913          1      0.995      0.946\n",
            "                    tv          2          2      0.571          1      0.995      0.846\n",
            "                laptop          2          3      0.666      0.667      0.485       0.45\n",
            "                 mouse          2          2          1          0      0.448      0.234\n",
            "                remote          5          8          1      0.698      0.814      0.682\n",
            "            cell phone          5          8      0.837      0.625       0.64      0.403\n",
            "             microwave          3          3      0.432          1      0.995      0.886\n",
            "                  oven          5          5      0.409        0.4      0.434      0.323\n",
            "                  sink          4          6       0.47        0.5      0.477      0.336\n",
            "          refrigerator          5          5      0.461      0.691      0.772      0.617\n",
            "                  book          6         29      0.766      0.338      0.494      0.285\n",
            "                 clock          8          9       0.85      0.889      0.955      0.752\n",
            "                  vase          2          2      0.339          1      0.995      0.995\n",
            "              scissors          1          1          1          0     0.0231    0.00926\n",
            "            teddy bear          6         21      0.913      0.498      0.908      0.639\n",
            "            toothbrush          2          5      0.697        0.8      0.938      0.778\n",
            "Speed: 0.5ms preprocess, 40.4ms inference, 0.0ms loss, 3.1ms postprocess per image\n",
            "Results saved to \u001b[1mruns/detect/yolov8m_improved2\u001b[0m\n"
          ]
        }
      ]
    },
    {
      "cell_type": "code",
      "source": [
        "labels = ['YOLOv8n', 'YOLOv8s', 'YOLOv8m', 'YOLOv8m+']\n",
        "map50 = [baseline_metrics['n']['mAP50'],\n",
        "         baseline_metrics['s']['mAP50'],\n",
        "         baseline_metrics['m']['mAP50'],\n",
        "         improved_model.metrics.box.map50]\n",
        "\n",
        "plt.figure(figsize=(10, 5))\n",
        "plt.bar(labels, map50, color=['blue', 'blue', 'blue', 'orange'])\n",
        "plt.title('mAP@0.5 Comparison')\n",
        "plt.ylabel('Score')\n",
        "plt.ylim(0, 1)\n",
        "plt.show()"
      ],
      "metadata": {
        "colab": {
          "base_uri": "https://localhost:8080/",
          "height": 397
        },
        "id": "G5rp8ojqApo8",
        "outputId": "fca54026-1797-49b8-d017-6b13b43b65d3"
      },
      "execution_count": 23,
      "outputs": [
        {
          "output_type": "display_data",
          "data": {
            "text/plain": [
              "<Figure size 1000x500 with 1 Axes>"
            ],
            "image/png": "[encoded data removed]"
          },
          "metadata": {}
        }
      ]
    },
    {
      "cell_type": "code",
      "source": [
        "metrics_df = pd.DataFrame({\n",
        "    'Model': labels,\n",
        "    'mAP50': map50,\n",
        "})\n",
        "print(\"\\nFinal Metrics Table:\")\n",
        "print(metrics_df)"
      ],
      "metadata": {
        "colab": {
          "base_uri": "https://localhost:8080/"
        },
        "id": "cZXInlr3Avbo",
        "outputId": "52a3f20c-7201-4afc-bcbe-2978a379ea94"
      },
      "execution_count": 27,
      "outputs": [
        {
          "output_type": "stream",
          "name": "stdout",
          "text": [
            "\n",
            "Final Metrics Table:\n",
            "      Model     mAP50\n",
            "0   YOLOv8n  0.759607\n",
            "1   YOLOv8s  0.865930\n",
            "2   YOLOv8m  0.911378\n",
            "3  YOLOv8m+  0.794445\n"
          ]
        }
      ]
    },
    {
      "cell_type": "markdown",
      "source": [
        "## Вывод"
      ],
      "metadata": {
        "id": "eBvMrq9CBi1I"
      }
    },
    {
      "cell_type": "markdown",
      "source": [
        "По результатам работы видно, что улучшения бейзлайна выбранным образом негативно повлияло на показатели модели, немного понизив показатели метрики mAP@0.5. Вероятно, следовало менять разные параметры модели по отдельности, чтобы найти те изменения, которые влияли бы положительно. Стоит, однако, отметить, что в любом случае библиотечные модели показали хорошие результаты и выдали достаточно высокие показатели выбранной метрики.\n",
        "\n",
        "Таблица с результатами:\n",
        "\n",
        "\n",
        "Final Metrics Table:\n",
        "      Model     mAP50\n",
        "0   YOLOv8n  0.759607\n",
        "1   YOLOv8s  0.865930\n",
        "2   YOLOv8m  0.911378\n",
        "3  YOLOv8m+  0.794445\n",
        "\n",
        "| Модель                           | mAP@0.5      \n",
        "|----------------------------------|----------|\n",
        "| YOLOv8n          |  0.759607  |\n",
        "| YOLOv8s   |    0.865930  |\n",
        "| YOLOv8m                      |  0.911378  |\n",
        "| YOLOv8m (улучшенный бейзлайн) |  0.794445  |"
      ],
      "metadata": {
        "id": "FQqg7lkuBgZ3"
      }
    }
  ]
}